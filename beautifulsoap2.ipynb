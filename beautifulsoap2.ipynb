{
 "cells": [
  {
   "cell_type": "code",
   "execution_count": 1,
   "metadata": {},
   "outputs": [
    {
     "data": {
      "text/html": [
       "<div>\n",
       "<style scoped>\n",
       "    .dataframe tbody tr th:only-of-type {\n",
       "        vertical-align: middle;\n",
       "    }\n",
       "\n",
       "    .dataframe tbody tr th {\n",
       "        vertical-align: top;\n",
       "    }\n",
       "\n",
       "    .dataframe thead th {\n",
       "        text-align: right;\n",
       "    }\n",
       "</style>\n",
       "<table border=\"1\" class=\"dataframe\">\n",
       "  <thead>\n",
       "    <tr style=\"text-align: right;\">\n",
       "      <th></th>\n",
       "      <th>Unnamed: 0</th>\n",
       "      <th>Cafe</th>\n",
       "      <th>Menu</th>\n",
       "      <th>URL</th>\n",
       "    </tr>\n",
       "    <tr>\n",
       "      <th>Rank</th>\n",
       "      <th></th>\n",
       "      <th></th>\n",
       "      <th></th>\n",
       "      <th></th>\n",
       "    </tr>\n",
       "  </thead>\n",
       "  <tbody>\n",
       "    <tr>\n",
       "      <th>1</th>\n",
       "      <td>0</td>\n",
       "      <td>Old Oak Tap</td>\n",
       "      <td>BLT</td>\n",
       "      <td>http://www.chicagomag.com/Chicago-Magazine/Nov...</td>\n",
       "    </tr>\n",
       "    <tr>\n",
       "      <th>2</th>\n",
       "      <td>1</td>\n",
       "      <td>Au Cheval</td>\n",
       "      <td>Fried Bologna</td>\n",
       "      <td>http://www.chicagomag.com/Chicago-Magazine/Nov...</td>\n",
       "    </tr>\n",
       "    <tr>\n",
       "      <th>3</th>\n",
       "      <td>2</td>\n",
       "      <td>Xoco</td>\n",
       "      <td>Woodland Mushroom</td>\n",
       "      <td>http://www.chicagomag.com/Chicago-Magazine/Nov...</td>\n",
       "    </tr>\n",
       "    <tr>\n",
       "      <th>4</th>\n",
       "      <td>3</td>\n",
       "      <td>Al’s Deli</td>\n",
       "      <td>Roast Beef</td>\n",
       "      <td>http://www.chicagomag.com/Chicago-Magazine/Nov...</td>\n",
       "    </tr>\n",
       "    <tr>\n",
       "      <th>5</th>\n",
       "      <td>4</td>\n",
       "      <td>Publican Quality Meats</td>\n",
       "      <td>PB&amp;L</td>\n",
       "      <td>http://www.chicagomag.com/Chicago-Magazine/Nov...</td>\n",
       "    </tr>\n",
       "  </tbody>\n",
       "</table>\n",
       "</div>"
      ],
      "text/plain": [
       "      Unnamed: 0                    Cafe               Menu  \\\n",
       "Rank                                                          \n",
       "1              0             Old Oak Tap                BLT   \n",
       "2              1               Au Cheval      Fried Bologna   \n",
       "3              2                    Xoco  Woodland Mushroom   \n",
       "4              3               Al’s Deli         Roast Beef   \n",
       "5              4  Publican Quality Meats               PB&L   \n",
       "\n",
       "                                                    URL  \n",
       "Rank                                                     \n",
       "1     http://www.chicagomag.com/Chicago-Magazine/Nov...  \n",
       "2     http://www.chicagomag.com/Chicago-Magazine/Nov...  \n",
       "3     http://www.chicagomag.com/Chicago-Magazine/Nov...  \n",
       "4     http://www.chicagomag.com/Chicago-Magazine/Nov...  \n",
       "5     http://www.chicagomag.com/Chicago-Magazine/Nov...  "
      ]
     },
     "execution_count": 1,
     "metadata": {},
     "output_type": "execute_result"
    }
   ],
   "source": [
    "from bs4 import BeautifulSoup \n",
    "from urllib.request import urlopen\n",
    "\n",
    "import pandas as pd\n",
    "import re\n",
    "# 웹크롤링한 데이터 읽어오기\n",
    "# df = pd.read_csv('data/exam-WebParsing.csv')       \n",
    "df = pd.read_csv('data/chicagomag_info.csv', index_col='Rank') \n",
    "df.head()"
   ]
  },
  {
   "cell_type": "code",
   "execution_count": 2,
   "metadata": {},
   "outputs": [
    {
     "data": {
      "text/html": [
       "<div>\n",
       "<style scoped>\n",
       "    .dataframe tbody tr th:only-of-type {\n",
       "        vertical-align: middle;\n",
       "    }\n",
       "\n",
       "    .dataframe tbody tr th {\n",
       "        vertical-align: top;\n",
       "    }\n",
       "\n",
       "    .dataframe thead th {\n",
       "        text-align: right;\n",
       "    }\n",
       "</style>\n",
       "<table border=\"1\" class=\"dataframe\">\n",
       "  <thead>\n",
       "    <tr style=\"text-align: right;\">\n",
       "      <th></th>\n",
       "      <th>Cafe</th>\n",
       "      <th>Menu</th>\n",
       "      <th>URL</th>\n",
       "    </tr>\n",
       "    <tr>\n",
       "      <th>Rank</th>\n",
       "      <th></th>\n",
       "      <th></th>\n",
       "      <th></th>\n",
       "    </tr>\n",
       "  </thead>\n",
       "  <tbody>\n",
       "    <tr>\n",
       "      <th>1</th>\n",
       "      <td>Old Oak Tap</td>\n",
       "      <td>BLT</td>\n",
       "      <td>http://www.chicagomag.com/Chicago-Magazine/Nov...</td>\n",
       "    </tr>\n",
       "    <tr>\n",
       "      <th>2</th>\n",
       "      <td>Au Cheval</td>\n",
       "      <td>Fried Bologna</td>\n",
       "      <td>http://www.chicagomag.com/Chicago-Magazine/Nov...</td>\n",
       "    </tr>\n",
       "    <tr>\n",
       "      <th>3</th>\n",
       "      <td>Xoco</td>\n",
       "      <td>Woodland Mushroom</td>\n",
       "      <td>http://www.chicagomag.com/Chicago-Magazine/Nov...</td>\n",
       "    </tr>\n",
       "    <tr>\n",
       "      <th>4</th>\n",
       "      <td>Al’s Deli</td>\n",
       "      <td>Roast Beef</td>\n",
       "      <td>http://www.chicagomag.com/Chicago-Magazine/Nov...</td>\n",
       "    </tr>\n",
       "    <tr>\n",
       "      <th>5</th>\n",
       "      <td>Publican Quality Meats</td>\n",
       "      <td>PB&amp;L</td>\n",
       "      <td>http://www.chicagomag.com/Chicago-Magazine/Nov...</td>\n",
       "    </tr>\n",
       "  </tbody>\n",
       "</table>\n",
       "</div>"
      ],
      "text/plain": [
       "                        Cafe               Menu  \\\n",
       "Rank                                              \n",
       "1                Old Oak Tap                BLT   \n",
       "2                  Au Cheval      Fried Bologna   \n",
       "3                       Xoco  Woodland Mushroom   \n",
       "4                  Al’s Deli         Roast Beef   \n",
       "5     Publican Quality Meats               PB&L   \n",
       "\n",
       "                                                    URL  \n",
       "Rank                                                     \n",
       "1     http://www.chicagomag.com/Chicago-Magazine/Nov...  \n",
       "2     http://www.chicagomag.com/Chicago-Magazine/Nov...  \n",
       "3     http://www.chicagomag.com/Chicago-Magazine/Nov...  \n",
       "4     http://www.chicagomag.com/Chicago-Magazine/Nov...  \n",
       "5     http://www.chicagomag.com/Chicago-Magazine/Nov...  "
      ]
     },
     "execution_count": 2,
     "metadata": {},
     "output_type": "execute_result"
    }
   ],
   "source": [
    "# index_col='Unnamed: 0'') 삭제\n",
    "del df['Unnamed: 0']\n",
    "df.head()"
   ]
  },
  {
   "cell_type": "code",
   "execution_count": 3,
   "metadata": {},
   "outputs": [
    {
     "name": "stdout",
     "output_type": "stream",
     "text": [
      "<class 'pandas.core.frame.DataFrame'>\n",
      "Int64Index: 50 entries, 1 to 50\n",
      "Data columns (total 3 columns):\n",
      "Cafe    50 non-null object\n",
      "Menu    50 non-null object\n",
      "URL     50 non-null object\n",
      "dtypes: object(3)\n",
      "memory usage: 1000.0+ bytes\n"
     ]
    }
   ],
   "source": [
    "df.info()"
   ]
  },
  {
   "cell_type": "code",
   "execution_count": 4,
   "metadata": {},
   "outputs": [
    {
     "data": {
      "text/plain": [
       "'http://www.chicagomag.com/Chicago-Magazine/November-2012/Best-Sandwiches-in-Chicago-Old-Oak-Tap-BLT/'"
      ]
     },
     "execution_count": 4,
     "metadata": {},
     "output_type": "execute_result"
    }
   ],
   "source": [
    "df['Menu'][1]\n",
    "'BLT'\n",
    "df['URL'][1]"
   ]
  },
  {
   "cell_type": "code",
   "execution_count": 5,
   "metadata": {},
   "outputs": [
    {
     "ename": "ModuleNotFoundError",
     "evalue": "No module named 'images'",
     "output_type": "error",
     "traceback": [
      "\u001b[1;31m---------------------------------------------------------------------------\u001b[0m",
      "\u001b[1;31mModuleNotFoundError\u001b[0m                       Traceback (most recent call last)",
      "\u001b[1;32m<ipython-input-5-06875be05eea>\u001b[0m in \u001b[0;36m<module>\u001b[1;34m()\u001b[0m\n\u001b[1;32m----> 1\u001b[1;33m \u001b[1;32mfrom\u001b[0m \u001b[0mimages\u001b[0m \u001b[1;32mimport\u001b[0m \u001b[0mbigpycraft_bda\u001b[0m \u001b[1;32mas\u001b[0m \u001b[0mbpc\u001b[0m\u001b[1;33m\u001b[0m\u001b[0m\n\u001b[0m\u001b[0;32m      2\u001b[0m \u001b[0mbpc\u001b[0m\u001b[1;33m.\u001b[0m\u001b[0mFigure\u001b[0m\u001b[1;33m(\u001b[0m\u001b[0mbpc\u001b[0m\u001b[1;33m.\u001b[0m\u001b[0mBDA_WC_12\u001b[0m\u001b[1;33m,\u001b[0m \u001b[1;36m800\u001b[0m\u001b[1;33m)\u001b[0m\u001b[1;33m\u001b[0m\u001b[0m\n",
      "\u001b[1;31mModuleNotFoundError\u001b[0m: No module named 'images'"
     ]
    }
   ],
   "source": [
    "from images import bigpycraft_bda as bpc\n",
    "bpc.Figure(bpc.BDA_WC_12, 800)"
   ]
  },
  {
   "cell_type": "code",
   "execution_count": 6,
   "metadata": {},
   "outputs": [
    {
     "data": {
      "text/plain": [
       "<title>\n",
       "  1. Old Oak Tap BLT |\n",
       "  Chicago magazine\n",
       "      |  November 2012\n",
       "    </title>"
      ]
     },
     "execution_count": 6,
     "metadata": {},
     "output_type": "execute_result"
    }
   ],
   "source": [
    "html = urlopen(df['URL'][1])\n",
    "soup = BeautifulSoup(html, \"lxml\")\n",
    "soup.title\n",
    "# type(soup)"
   ]
  },
  {
   "cell_type": "code",
   "execution_count": 7,
   "metadata": {},
   "outputs": [
    {
     "data": {
      "text/plain": [
       "<p class=\"addy\">\n",
       "<em>$10. 2109 W. Chicago Ave., 773-772-0406, <a href=\"http://www.theoldoaktap.com/\">theoldoaktap.com</a></em></p>"
      ]
     },
     "execution_count": 7,
     "metadata": {},
     "output_type": "execute_result"
    }
   ],
   "source": [
    "soup.find('p', 'addy')"
   ]
  },
  {
   "cell_type": "code",
   "execution_count": 8,
   "metadata": {},
   "outputs": [
    {
     "data": {
      "text/plain": [
       "'\\n$10. 2109 W. Chicago Ave., 773-772-0406, theoldoaktap.com'"
      ]
     },
     "execution_count": 8,
     "metadata": {},
     "output_type": "execute_result"
    }
   ],
   "source": [
    "taginfo = soup.find('p', 'addy').get_text()\n",
    "taginfo"
   ]
  },
  {
   "cell_type": "code",
   "execution_count": 9,
   "metadata": {},
   "outputs": [
    {
     "data": {
      "text/plain": [
       "'$10.'"
      ]
     },
     "execution_count": 9,
     "metadata": {},
     "output_type": "execute_result"
    }
   ],
   "source": [
    "price = re.search('\\$\\d+\\.(\\d+)?', taginfo).group()\n",
    "price"
   ]
  },
  {
   "cell_type": "code",
   "execution_count": 10,
   "metadata": {},
   "outputs": [
    {
     "data": {
      "text/plain": [
       "'773-772-0406'"
      ]
     },
     "execution_count": 10,
     "metadata": {},
     "output_type": "execute_result"
    }
   ],
   "source": [
    "address = '일단보류'    # Street, City\n",
    "phone = re.search('\\d{3}[-]\\d{3}[-]\\d{4}', taginfo)\n",
    "if phone is not None:\n",
    "    phone = phone.group()\n",
    "phone\n",
    "'773-772-0406'"
   ]
  },
  {
   "cell_type": "code",
   "execution_count": 11,
   "metadata": {},
   "outputs": [
    {
     "data": {
      "text/plain": [
       "'theoldoaktap.com'"
      ]
     },
     "execution_count": 11,
     "metadata": {},
     "output_type": "execute_result"
    }
   ],
   "source": [
    "infolist = taginfo.split(', ')\n",
    "if infolist[-1].endswith('.com') or infolist[-1].endswith('.net'):\n",
    "    homepage = infolist[-1]\n",
    "else:\n",
    "    homepage = 'No Homepage'\n",
    "homepage\n",
    "'theoldoaktap.com'"
   ]
  },
  {
   "cell_type": "code",
   "execution_count": 13,
   "metadata": {},
   "outputs": [
    {
     "name": "stdout",
     "output_type": "stream",
     "text": [
      "1\n",
      "2\n",
      "3\n",
      "4\n",
      "5\n"
     ]
    }
   ],
   "source": [
    "\n",
    "'theoldoaktap.com'\n",
    "start = len(price)\n",
    "if phone is None:\n",
    "    phone = 'No Contact'\n",
    "    end = taginfo.find(homepage)\n",
    "else:\n",
    "    end = taginfo.find(phone)\n",
    "    \n",
    "address = taginfo[start:end]\n",
    "address\n",
    "' 2109 W. Chicago Ave., '\n",
    "# 상위 TOP3 페이지에서 가격과 주소정보만 읽어오기\n",
    "Price    = []\n",
    "Address  = []\n",
    "Phone    = []\n",
    "Homepage = []\n",
    "\n",
    "for n in [1,2,3,4,5]:   \n",
    "    html = urlopen(df['URL'][n])\n",
    "    soup = BeautifulSoup(html, 'lxml')\n",
    "    \n",
    "    taginfo = soup.find('p', 'addy').get_text()\n",
    "    taginfo = taginfo[taginfo.find('$'):]\n",
    "    \n",
    "    price = re.search('\\$\\d+\\.(\\d+)?', taginfo).group()\n",
    "    \n",
    "    address = '일단보류'    # Street, City\n",
    "    \n",
    "    phone = re.search('\\d{3}[-]\\d{3}[-]\\d{4}', taginfo)\n",
    "    if phone is not None:\n",
    "        phone = phone.group()    \n",
    "        \n",
    "    infolist = taginfo.split(', ')\n",
    "    if infolist[-1].endswith('.com') or infolist[-1].endswith('.net'):\n",
    "        homepage = infolist[-1]\n",
    "    else:\n",
    "        homepage = 'No Homepage'\n",
    "\n",
    "    start = len(price)\n",
    "    if phone is None:\n",
    "        phone = 'No Contact'\n",
    "        end = taginfo.find(homepage)\n",
    "    else:\n",
    "        end = taginfo.find(phone)\n",
    "\n",
    "    address = taginfo[start:end] \n",
    "\n",
    "    Price.append(price)\n",
    "    Address.append(address)\n",
    "    Phone.append(phone)\n",
    "    Homepage.append(homepage)\n",
    "    \n",
    "    print(n)"
   ]
  },
  {
   "cell_type": "code",
   "execution_count": 15,
   "metadata": {},
   "outputs": [
    {
     "data": {
      "text/plain": [
       "['$10.', '$9.', '$9.50', '$9.40', '$10.']"
      ]
     },
     "execution_count": 15,
     "metadata": {},
     "output_type": "execute_result"
    }
   ],
   "source": [
    "Price"
   ]
  },
  {
   "cell_type": "code",
   "execution_count": 17,
   "metadata": {},
   "outputs": [
    {
     "data": {
      "text/plain": [
       "['773-772-0406',\n",
       " '312-929-4580',\n",
       " '312-334-3688',\n",
       " '847-475-9400',\n",
       " '312-445-8977']"
      ]
     },
     "execution_count": 17,
     "metadata": {},
     "output_type": "execute_result"
    }
   ],
   "source": [
    "Phone"
   ]
  },
  {
   "cell_type": "code",
   "execution_count": 16,
   "metadata": {},
   "outputs": [
    {
     "data": {
      "text/plain": [
       "[' 2109 W. Chicago Ave., ',\n",
       " ' 800 W. Randolph St., ',\n",
       " '. 445 N. Clark St., ',\n",
       " '. 914 Noyes St., Evanston, ',\n",
       " ' 825 W. Fulton Mkt., ']"
      ]
     },
     "execution_count": 16,
     "metadata": {},
     "output_type": "execute_result"
    }
   ],
   "source": [
    "Address"
   ]
  },
  {
   "cell_type": "code",
   "execution_count": 18,
   "metadata": {},
   "outputs": [
    {
     "data": {
      "text/plain": [
       "['theoldoaktap.com',\n",
       " 'aucheval.tumblr.com',\n",
       " 'rickbayless.com',\n",
       " 'alsdeli.net',\n",
       " 'publicanqualitymeats.com']"
      ]
     },
     "execution_count": 18,
     "metadata": {},
     "output_type": "execute_result"
    }
   ],
   "source": [
    "Homepage"
   ]
  },
  {
   "cell_type": "code",
   "execution_count": 19,
   "metadata": {},
   "outputs": [
    {
     "data": {
      "text/plain": [
       "'$10'"
      ]
     },
     "execution_count": 19,
     "metadata": {},
     "output_type": "execute_result"
    }
   ],
   "source": [
    "price = Price[0]\n",
    "if price.endswith('.'):\n",
    "    price = price[:-1]\n",
    "price"
   ]
  },
  {
   "cell_type": "code",
   "execution_count": 20,
   "metadata": {},
   "outputs": [
    {
     "data": {
      "text/plain": [
       "'445 N. Clark St.'"
      ]
     },
     "execution_count": 20,
     "metadata": {},
     "output_type": "execute_result"
    }
   ],
   "source": [
    "address = Address[2]\n",
    "address = address[:-2]\n",
    "if address.startswith('.'):\n",
    "    address = address[1:]\n",
    "address = address.strip()\n",
    "address"
   ]
  },
  {
   "cell_type": "code",
   "execution_count": 21,
   "metadata": {},
   "outputs": [
    {
     "name": "stdout",
     "output_type": "stream",
     "text": [
      "1\n",
      "2\n",
      "3\n",
      "4\n",
      "5\n"
     ]
    }
   ],
   "source": [
    "Price    = []\n",
    "Address  = []\n",
    "Phone    = []\n",
    "Homepage = []\n",
    "\n",
    "for n in [1,2,3,4,5]:   \n",
    "    html = urlopen(df['URL'][n])\n",
    "    soup = BeautifulSoup(html, 'lxml')\n",
    "    \n",
    "    taginfo = soup.find('p', 'addy').get_text()\n",
    "    taginfo = taginfo[taginfo.find('$'):]\n",
    "    \n",
    "    price = re.search('\\$\\d+\\.(\\d+)?', taginfo).group()\n",
    "    # price update\n",
    "    if price.endswith('.'):\n",
    "        price = price[:-1]\n",
    "        \n",
    "    address = '일단보류'    # Street, City\n",
    "    \n",
    "    phone = re.search('\\d{3}[-]\\d{3}[-]\\d{4}', taginfo)\n",
    "    if phone is not None:\n",
    "        phone = phone.group()    \n",
    "        \n",
    "    infolist = taginfo.split(', ')\n",
    "    if infolist[-1].endswith('.com') or infolist[-1].endswith('.net'):\n",
    "        homepage = infolist[-1]\n",
    "    else:\n",
    "        homepage = 'No Homepage'\n",
    "\n",
    "    start = len(price)\n",
    "    if phone is None:\n",
    "        phone = 'No Contact'\n",
    "        end = taginfo.find(homepage)\n",
    "    else:\n",
    "        end = taginfo.find(phone)\n",
    "\n",
    "    address = taginfo[start:end] \n",
    "    # address update\n",
    "    address = address[:-2]\n",
    "    if address.startswith('.'):\n",
    "        address = address[1:]\n",
    "    address = address.strip()\n",
    "    \n",
    "    Price.append(price)\n",
    "    Address.append(address)\n",
    "    Phone.append(phone)\n",
    "    Homepage.append(homepage)\n",
    "    \n",
    "    print(n)"
   ]
  },
  {
   "cell_type": "code",
   "execution_count": 22,
   "metadata": {},
   "outputs": [
    {
     "data": {
      "text/plain": [
       "['$10', '$9', '$9.50', '$9.40', '$10']"
      ]
     },
     "execution_count": 22,
     "metadata": {},
     "output_type": "execute_result"
    }
   ],
   "source": [
    "Price"
   ]
  },
  {
   "cell_type": "code",
   "execution_count": null,
   "metadata": {},
   "outputs": [],
   "source": []
  },
  {
   "cell_type": "code",
   "execution_count": null,
   "metadata": {},
   "outputs": [],
   "source": []
  },
  {
   "cell_type": "code",
   "execution_count": null,
   "metadata": {},
   "outputs": [],
   "source": []
  },
  {
   "cell_type": "code",
   "execution_count": null,
   "metadata": {},
   "outputs": [],
   "source": []
  },
  {
   "cell_type": "code",
   "execution_count": null,
   "metadata": {},
   "outputs": [],
   "source": []
  }
 ],
 "metadata": {
  "kernelspec": {
   "display_name": "Python 3",
   "language": "python",
   "name": "python3"
  },
  "language_info": {
   "codemirror_mode": {
    "name": "ipython",
    "version": 3
   },
   "file_extension": ".py",
   "mimetype": "text/x-python",
   "name": "python",
   "nbconvert_exporter": "python",
   "pygments_lexer": "ipython3",
   "version": "3.6.5"
  }
 },
 "nbformat": 4,
 "nbformat_minor": 2
}
