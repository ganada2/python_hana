{
 "cells": [
  {
   "cell_type": "code",
   "execution_count": 6,
   "metadata": {
    "scrolled": true
   },
   "outputs": [
    {
     "ename": "ModuleNotFoundError",
     "evalue": "No module named 'images'",
     "output_type": "error",
     "traceback": [
      "\u001b[1;31m---------------------------------------------------------------------------\u001b[0m",
      "\u001b[1;31mModuleNotFoundError\u001b[0m                       Traceback (most recent call last)",
      "\u001b[1;32m<ipython-input-6-ba85e944fd42>\u001b[0m in \u001b[0;36m<module>\u001b[1;34m()\u001b[0m\n\u001b[0;32m      7\u001b[0m \u001b[0msoup\u001b[0m \u001b[1;33m=\u001b[0m \u001b[0mBeautifulSoup\u001b[0m\u001b[1;33m(\u001b[0m\u001b[0mhtml\u001b[0m\u001b[1;33m,\u001b[0m \u001b[1;34m\"lxml\"\u001b[0m\u001b[1;33m)\u001b[0m\u001b[1;33m\u001b[0m\u001b[0m\n\u001b[0;32m      8\u001b[0m \u001b[1;33m\u001b[0m\u001b[0m\n\u001b[1;32m----> 9\u001b[1;33m \u001b[1;32mfrom\u001b[0m \u001b[0mimages\u001b[0m \u001b[1;32mimport\u001b[0m \u001b[0mbigpycraft_bda\u001b[0m \u001b[1;32mas\u001b[0m \u001b[0mbpc\u001b[0m\u001b[1;33m\u001b[0m\u001b[0m\n\u001b[0m\u001b[0;32m     10\u001b[0m \u001b[0mbpc\u001b[0m\u001b[1;33m.\u001b[0m\u001b[0mFigure\u001b[0m\u001b[1;33m(\u001b[0m\u001b[0mbpc\u001b[0m\u001b[1;33m.\u001b[0m\u001b[0mBDA_WC_10\u001b[0m\u001b[1;33m,\u001b[0m \u001b[1;36m800\u001b[0m\u001b[1;33m)\u001b[0m\u001b[1;33m\u001b[0m\u001b[0m\n",
      "\u001b[1;31mModuleNotFoundError\u001b[0m: No module named 'images'"
     ]
    }
   ],
   "source": [
    "from bs4 import BeautifulSoup \n",
    "from urllib.request import urlopen\n",
    "\n",
    "# 구글에서 '50 Best Sandwiches' 검색\n",
    "url  = 'http://www.chicagomag.com/Chicago-Magazine/November-2012/Best-Sandwiches-Chicago/'\n",
    "html = urlopen(url)\n",
    "soup = BeautifulSoup(html, \"lxml\")\n",
    "\n",
    "from images import bigpycraft_bda as bpc\n",
    "bpc.Figure(bpc.BDA_WC_10, 800)"
   ]
  },
  {
   "cell_type": "code",
   "execution_count": null,
   "metadata": {},
   "outputs": [],
   "source": [
    "bpc.Figure(bpc.BDA_WC_11, 800)\n"
   ]
  },
  {
   "cell_type": "code",
   "execution_count": 7,
   "metadata": {},
   "outputs": [
    {
     "name": "stdout",
     "output_type": "stream",
     "text": [
      "<!DOCTYPE html>\n",
      "<html lang=\"en\">\n",
      "<head>\n",
      "<!-- Urbis magnitudo. Fabulas magnitudo. -->\n",
      "<meta charset=\"utf-8\"/>\n",
      "<style>a.edit_from_site {display: none !important;}</style>\n",
      "<title>\r\n",
      "  The 50 Best Sandwiches in Chicago |\r\n",
      "  Chicago magazine\r\n",
      "      |  November 2012\r\n",
      "    </title>\n",
      "<meta content=\"width=device-width, initial-scale=1.0, maximum-scale=1.0, user-scalable = no\" name=\"viewport\"/>\n",
      "<meta content=\"Our list of Chicago’s 50 best sandwiches, ranked in order of deliciousness\" name=\"description\"/>\n",
      "<!-- <meta name=\"description\" content=\"Our list of Chicago’s 50 best sandwiches, ranked in order of deliciousness\"> -->\n",
      "<meta content=\"sandwiches, dining\" name=\"keywords\"/>\n",
      "<meta content=\"37873197144\" property=\"fb:pages\"/>\n",
      "<link href=\"//www.googletagservices.com\" rel=\"dns-prefetch\"/>\n",
      "<link href=\"//ajax.googleapis.com\" rel=\"dns-prefetch\"/>\n",
      "<link href=\"//securepubads.g.doubleclick.net\" rel=\"dns-prefetch\"/>\n",
      "<link href=\"//media.chicagomag.com\" rel=\"dns-prefetch\"/>\n",
      "<link href=\"//ox-d.godengo.com/\" rel=\"\n"
     ]
    }
   ],
   "source": [
    "print(str(soup)[:1000])"
   ]
  },
  {
   "cell_type": "code",
   "execution_count": 8,
   "metadata": {},
   "outputs": [
    {
     "data": {
      "text/plain": [
       "<title>\n",
       "  The 50 Best Sandwiches in Chicago |\n",
       "  Chicago magazine\n",
       "      |  November 2012\n",
       "    </title>"
      ]
     },
     "execution_count": 8,
     "metadata": {},
     "output_type": "execute_result"
    }
   ],
   "source": [
    "html_title = soup.title\n",
    "html_title"
   ]
  },
  {
   "cell_type": "code",
   "execution_count": 9,
   "metadata": {},
   "outputs": [
    {
     "data": {
      "text/plain": [
       "'title'"
      ]
     },
     "execution_count": 9,
     "metadata": {},
     "output_type": "execute_result"
    }
   ],
   "source": [
    "tag_name = soup.title.name\n",
    "tag_name"
   ]
  },
  {
   "cell_type": "code",
   "execution_count": 10,
   "metadata": {},
   "outputs": [
    {
     "data": {
      "text/plain": [
       "'head'"
      ]
     },
     "execution_count": 10,
     "metadata": {},
     "output_type": "execute_result"
    }
   ],
   "source": [
    "p_tag_name = soup.title.parent.name\n",
    "p_tag_name"
   ]
  },
  {
   "cell_type": "code",
   "execution_count": 11,
   "metadata": {},
   "outputs": [
    {
     "data": {
      "text/plain": [
       "'\\r\\n  The 50 Best Sandwiches in Chicago |\\r\\n  Chicago magazine\\r\\n      |  November 2012\\r\\n    '"
      ]
     },
     "execution_count": 11,
     "metadata": {},
     "output_type": "execute_result"
    }
   ],
   "source": [
    "tag_text = soup.title.string\n",
    "tag_text"
   ]
  },
  {
   "cell_type": "code",
   "execution_count": 12,
   "metadata": {},
   "outputs": [
    {
     "data": {
      "text/plain": [
       "'\\r\\n  The 50 Best Sandwiches in Chicago |\\r\\n  Chicago magazine\\r\\n      |  November 2012\\r\\n    '"
      ]
     },
     "execution_count": 12,
     "metadata": {},
     "output_type": "execute_result"
    }
   ],
   "source": [
    "soup.title.getText()"
   ]
  },
  {
   "cell_type": "code",
   "execution_count": 13,
   "metadata": {},
   "outputs": [
    {
     "data": {
      "text/plain": [
       "'\\r\\n  The 50 Best Sandwiches in Chicago |\\r\\n  Chicago magazine\\r\\n      |  November 2012\\r\\n    '"
      ]
     },
     "execution_count": 13,
     "metadata": {},
     "output_type": "execute_result"
    }
   ],
   "source": [
    "soup.title.get_text()"
   ]
  },
  {
   "cell_type": "code",
   "execution_count": 14,
   "metadata": {},
   "outputs": [
    {
     "name": "stdout",
     "output_type": "stream",
     "text": [
      "\r\n",
      "  The 50 Best Sandwiches in Chicago |\r\n",
      "  Chicago magazine\r\n",
      "      |  November 2012\r\n",
      "    \n"
     ]
    }
   ],
   "source": [
    "print(tag_text)"
   ]
  },
  {
   "cell_type": "code",
   "execution_count": 15,
   "metadata": {},
   "outputs": [
    {
     "data": {
      "text/plain": [
       "<div id=\"reveal-bar-mobile\">\n",
       "<button id=\"reveal-bar-mobile-sections-button\">More →</button>\n",
       "<ul class=\"reveal-share-buttons list-no-bullets clearfix\">\n",
       "<li class=\"fb\"><a href=\"https://www.facebook.com/sharer/sharer.php?u=http://www.chicagomag.com/Chicago-Magazine/November-2012/Best-Sandwiches-Chicago/%3Futm_source=facebook.com%26utm_medium=referral%26utm_campaign=Facebook%20mobile%20reveal%20bar%2019493%20Sep%2013%202018%2001:09\" onclick=\"ga('send',  'event', 'Sharing', 'Facebook share from mobile reveal bar','The 50 Best Sandwiches in Chicago'); return socialPopup('https://www.facebook.com/sharer/sharer.php?u=http://www.chicagomag.com/Chicago-Magazine/November-2012/Best-Sandwiches-Chicago/%3Futm_source=facebook.com%26utm_medium=referral%26utm_campaign=Facebook%20mobile%20reveal%20bar%2019493%20Sep%2013%202018%2001:09');\" target=\"_blank\"><i class=\"icon-facebook\"></i></a>\n",
       "</li>\n",
       "<li class=\"tw\"><a href=\"https://twitter.com/share?text=The+50+Best+Sandwiches+in+Chicago&amp;url=http://www.chicagomag.com/Chicago-Magazine/November-2012/Best-Sandwiches-Chicago/\" onclick=\"ga('send',  'event', 'Sharing', 'Tweet story from mobile reveal bar','The 50 Best Sandwiches in Chicago'); return tweetPopup('The+50+Best+Sandwiches+in+Chicago','/Chicago-Magazine/November-2012/Best-Sandwiches-Chicago/','mobile+reveal+bar+19493');\" target=\"_blank\"><i class=\"icon-twitter\"></i></a></li>\n",
       "</ul>\n",
       "</div>"
      ]
     },
     "execution_count": 15,
     "metadata": {},
     "output_type": "execute_result"
    }
   ],
   "source": [
    "soup.div"
   ]
  },
  {
   "cell_type": "code",
   "execution_count": 16,
   "metadata": {},
   "outputs": [],
   "source": [
    "div_tags = soup.find_all('div')"
   ]
  },
  {
   "cell_type": "code",
   "execution_count": 17,
   "metadata": {},
   "outputs": [
    {
     "data": {
      "text/plain": [
       "217"
      ]
     },
     "execution_count": 17,
     "metadata": {},
     "output_type": "execute_result"
    }
   ],
   "source": [
    "len(div_tags)"
   ]
  },
  {
   "cell_type": "code",
   "execution_count": 18,
   "metadata": {},
   "outputs": [
    {
     "data": {
      "text/plain": [
       "<div id=\"reveal-bar-mobile\">\n",
       "<button id=\"reveal-bar-mobile-sections-button\">More →</button>\n",
       "<ul class=\"reveal-share-buttons list-no-bullets clearfix\">\n",
       "<li class=\"fb\"><a href=\"https://www.facebook.com/sharer/sharer.php?u=http://www.chicagomag.com/Chicago-Magazine/November-2012/Best-Sandwiches-Chicago/%3Futm_source=facebook.com%26utm_medium=referral%26utm_campaign=Facebook%20mobile%20reveal%20bar%2019493%20Sep%2013%202018%2001:09\" onclick=\"ga('send',  'event', 'Sharing', 'Facebook share from mobile reveal bar','The 50 Best Sandwiches in Chicago'); return socialPopup('https://www.facebook.com/sharer/sharer.php?u=http://www.chicagomag.com/Chicago-Magazine/November-2012/Best-Sandwiches-Chicago/%3Futm_source=facebook.com%26utm_medium=referral%26utm_campaign=Facebook%20mobile%20reveal%20bar%2019493%20Sep%2013%202018%2001:09');\" target=\"_blank\"><i class=\"icon-facebook\"></i></a>\n",
       "</li>\n",
       "<li class=\"tw\"><a href=\"https://twitter.com/share?text=The+50+Best+Sandwiches+in+Chicago&amp;url=http://www.chicagomag.com/Chicago-Magazine/November-2012/Best-Sandwiches-Chicago/\" onclick=\"ga('send',  'event', 'Sharing', 'Tweet story from mobile reveal bar','The 50 Best Sandwiches in Chicago'); return tweetPopup('The+50+Best+Sandwiches+in+Chicago','/Chicago-Magazine/November-2012/Best-Sandwiches-Chicago/','mobile+reveal+bar+19493');\" target=\"_blank\"><i class=\"icon-twitter\"></i></a></li>\n",
       "</ul>\n",
       "</div>"
      ]
     },
     "execution_count": 18,
     "metadata": {},
     "output_type": "execute_result"
    }
   ],
   "source": [
    "div_tags[0]"
   ]
  },
  {
   "cell_type": "code",
   "execution_count": 19,
   "metadata": {},
   "outputs": [
    {
     "name": "stdout",
     "output_type": "stream",
     "text": [
      "[<div class=\"sammy\" style=\"position: relative;\">\n",
      "<div class=\"sammyRank\">1</div>\n",
      "<div class=\"sammyListing\"><a href=\"/Chicago-Magazine/November-2012/Best-Sandwiches-in-Chicago-Old-Oak-Tap-BLT/\"><b>BLT</b><br/>\r\n",
      "Old Oak Tap<br/>\n",
      "<em>Read more</em> </a></div>\n",
      "</div>, <div class=\"sammy\" style=\"position: relative;\">\n",
      "<div class=\"sammyRank\">2</div>\n",
      "<div class=\"sammyListing\"><a href=\"/Chicago-Magazine/November-2012/Best-Sandwiches-in-Chicago-Au-Cheval-Fried-Bologna/\"><b>Fried Bologna</b><br/>\r\n",
      "Au Cheval<br/>\n",
      "<em>Read more</em> </a></div>\n",
      "</div>, <div class=\"sammy\" style=\"position: relative;\">\n",
      "<div class=\"sammyRank\">3</div>\n",
      "<div class=\"sammyListing\"><a href=\"/Chicago-Magazine/November-2012/Best-Sandwiches-in-Chicago-Xoco-Woodland-Mushroom/\"><b>Woodland Mushroom</b><br/>\r\n",
      "Xoco<br/>\n",
      "<em>Read more</em> </a></div>\n",
      "</div>, <div class=\"sammy\" style=\"position: relative;\">\n",
      "<div class=\"sammyRank\">4</div>\n",
      "<div class=\"sammyListing\"><a href=\"/Chicago-Magazine/November-2012/Best-Sandwiches-in-Chicago-Als-Deli-Roast-Beef/\"><b>Roast Beef</b><br/>\r\n",
      "Al’s Deli<br/>\n",
      "<em>Read more</em> </a></div>\n",
      "</div>, <div class=\"sammy\" style=\"position: relative;\">\n",
      "<div class=\"sammyRank\">5</div>\n",
      "<div class=\"sammyListing\"><a href=\"/Chicago-Magazine/November-2012/Best-Sandwiches-in-Chicago-Publican-Quality-Meats-PB-L/\"><b>PB&amp;L</b><br/>\r\n",
      "Publican Quality Meats<br/>\n",
      "<em>Read more</em> </a></div>\n",
      "</div>, <div class=\"sammy\" style=\"position: relative;\">\n",
      "<div class=\"sammyRank\">6</div>\n",
      "<div class=\"sammyListing\"><a href=\"http://www.chicagomag.com/Chicago-Magazine/November-2012/Best-Sandwiches-in-Chicago-Hendrickx-Belgian-Bread-Crafter-Belgian-Chicken-Curry-Salad/\"><b>Belgian Chicken Curry Salad</b><br/>\r\n",
      "Hendrickx Belgian Bread Crafter<br/>\n",
      "<em>Read more</em> </a></div>\n",
      "</div>, <div class=\"sammy\" style=\"position: relative;\">\n",
      "<div class=\"sammyRank\">7</div>\n",
      "<div class=\"sammyListing\"><a href=\"/Chicago-Magazine/November-2012/Best-Sandwiches-in-Chicago-Acadia-Lobster-Roll/\"><b>Lobster Roll</b><br/>\r\n",
      "Acadia<br/>\n",
      "<em>Read more</em> </a></div>\n",
      "</div>, <div class=\"sammy\" style=\"position: relative;\">\n",
      "<div class=\"sammyRank\">8</div>\n",
      "<div class=\"sammyListing\"><a href=\"/Chicago-Magazine/November-2012/Best-Sandwiches-in-Chicago-Birchwood-Kitchen-Smoked-Salmon-Salad/\"><b>Smoked Salmon Salad</b><br/>\r\n",
      "Birchwood Kitchen<br/>\n",
      "<em>Read more</em> </a></div>\n",
      "</div>, <div class=\"sammy\" style=\"position: relative;\">\n",
      "<div class=\"sammyRank\">9</div>\n",
      "<div class=\"sammyListing\"><a href=\"/Chicago-Magazine/November-2012/Best-Sandwiches-in-Chicago-Cemitas-Puebla-Atomica-Cemitas/\"><b>Atomica Cemitas</b><br/>\r\n",
      "Cemitas Puebla<br/>\n",
      "<em>Read more</em> </a></div>\n",
      "</div>, <div class=\"sammy\" style=\"position: relative;\">\n",
      "<div class=\"sammyRank\">10</div>\n",
      "<div class=\"sammyListing\"><a href=\"/Chicago-Magazine/November-2012/Best-Sandwiches-in-Chicago-Nana-Grilled-Laughing-Bird-Shrimp-and-Fried-Oyster-Po-Boy/\"><b>Grilled Laughing Bird Shrimp and Fried Po’ Boy</b><br/>\r\n",
      "Nana<br/>\n",
      "<em>Read more</em> </a></div>\n",
      "</div>, <div class=\"sammy\" style=\"position: relative;\">\n",
      "<div class=\"sammyRank\">11</div>\n",
      "<div class=\"sammyListing\"><a href=\"http://www.chicagomag.com/Chicago-Magazine/November-2012/Best-Sandwiches-in-Chicago-Lula-Cafe-Ham-and-Raclette-Panino/\"><b>Ham and Raclette Panino</b><br/>\r\n",
      "Lula Cafe<br/>\n",
      "<em>Read more</em> </a></div>\n",
      "</div>, <div class=\"sammy\" style=\"position: relative;\">\n",
      "<div class=\"sammyRank\">12</div>\n",
      "<div class=\"sammyListing\"><a href=\"http://www.chicagomag.com/Chicago-Magazine/November-2012/Best-Sandwiches-in-Chicago-Ricobenes-Breaded-Steak/\"><b>Breaded Steak</b><br/>\r\n",
      "Ricobene’s<br/>\n",
      "<em>Read more</em> </a></div>\n",
      "</div>, <div class=\"sammy\" style=\"position: relative;\">\n",
      "<div class=\"sammyRank\">13</div>\n",
      "<div class=\"sammyListing\"><a href=\"http://www.chicagomag.com/Chicago-Magazine/November-2012/Best-Sandwiches-in-Chicago-Frog-n-Snail-The-Hawkeye/\"><b>The Hawkeye</b><br/>\r\n",
      "Frog n Snail<br/>\n",
      "<em>Read more</em> </a></div>\n",
      "</div>, <div class=\"sammy\" style=\"position: relative;\">\n",
      "<div class=\"sammyRank\">14</div>\n",
      "<div class=\"sammyListing\"><a href=\"http://www.chicagomag.com/Chicago-Magazine/November-2012/Best-Sandwiches-in-Chicago-Crosbys-Kitchen-Chicken-Dip/\"><b>Chicken Dip</b><br/>\r\n",
      "Crosby’s Kitchen<br/>\n",
      "<em>Read more</em> </a></div>\n",
      "</div>, <div class=\"sammy\" style=\"position: relative;\">\n",
      "<div class=\"sammyRank\">15</div>\n",
      "<div class=\"sammyListing\"><a href=\"http://www.chicagomag.com/Chicago-Magazine/November-2012/Best-Sandwiches-in-Chicago-Longman-and-Eagle-Wild-Boar-Sloppy-Joe/\"><b>Wild Boar Sloppy Joe</b><br/>\r\n",
      "Longman &amp; Eagle<br/>\n",
      "<em>Read more</em> </a></div>\n",
      "</div>, <div class=\"sammy\" style=\"position: relative;\">\n",
      "<div class=\"sammyRank\">16</div>\n",
      "<div class=\"sammyListing\"><a href=\"http://www.chicagomag.com/Chicago-Magazine/November-2012/Best-Sandwiches-in-Chicago-Bari-Meatball-Sub/\"><b>Meatball Sub</b><br/>\r\n",
      "Bari<br/>\n",
      "<em>Read more</em> </a></div>\n",
      "</div>, <div class=\"sammy\" style=\"position: relative;\">\n",
      "<div class=\"sammyRank\">17</div>\n",
      "<div class=\"sammyListing\"><a href=\"http://www.chicagomag.com/Chicago-Magazine/November-2012/Best-Sandwiches-in-Chicago-Mannys-Corned-Beef/\"><b>Corned Beef</b><br/>\r\n",
      "Manny’s<br/>\n",
      "<em>Read more</em> </a></div>\n",
      "</div>, <div class=\"sammy\" style=\"position: relative;\">\n",
      "<div class=\"sammyRank\">18</div>\n",
      "<div class=\"sammyListing\"><a href=\"http://www.chicagomag.com/Chicago-Magazine/November-2012/Best-Sandwiches-in-Chicago-Eggys-Turkey-Club/\"><b>Turkey Club</b><br/>\r\n",
      "Eggy’s<br/>\n",
      "<em>Read more</em> </a></div>\n",
      "</div>, <div class=\"sammy\" style=\"position: relative;\">\n",
      "<div class=\"sammyRank\">19</div>\n",
      "<div class=\"sammyListing\"><a href=\"http://www.chicagomag.com/Chicago-Magazine/November-2012/Best-Sandwiches-in-Chicago-Old-Jerusalem-Falafel/\"><b>Falafel</b><br/>\r\n",
      "Old Jerusalem<br/>\n",
      "<em>Read more</em> </a></div>\n",
      "</div>, <div class=\"sammy\" style=\"position: relative;\">\n",
      "<div class=\"sammyRank\">20</div>\n",
      "<div class=\"sammyListing\"><a href=\"http://www.chicagomag.com/Chicago-Magazine/November-2012/Best-Sandwiches-in-Chicago-Mindys-HotChocolate-Crab-Cake/\"><b>Crab Cake</b><br/>\r\n",
      "Mindy’s HotChocolate<br/>\n",
      "<em>Read more</em> </a></div>\n",
      "</div>, <div class=\"sammy\" style=\"position: relative;\">\n",
      "<div class=\"sammyRank\">21</div>\n",
      "<div class=\"sammyListing\"><a href=\"http://www.chicagomag.com/Chicago-Magazine/November-2012/Best-Sandwiches-in-Chicago-Olgas-Delicatessen-Chicken-Schnitzel/\"><b>Chicken Schnitzel</b><br/>\r\n",
      "Olga’s Delicatessen<br/>\n",
      "<em>Read more</em> </a></div>\n",
      "</div>, <div class=\"sammy\" style=\"position: relative;\">\n",
      "<div class=\"sammyRank\">22</div>\n",
      "<div class=\"sammyListing\"><a href=\"http://www.chicagomag.com/Chicago-Magazine/November-2012/Best-Sandwiches-in-Chicago-Dawali-Mediterranean-Kitchen-Shawarma/\"><b>Shawarma</b><br/>\r\n",
      "Dawali Mediterranean Kitchen<br/>\n",
      "<em>Read more</em> </a></div>\n",
      "</div>, <div class=\"sammy\" style=\"position: relative;\">\n",
      "<div class=\"sammyRank\">23</div>\n",
      "<div class=\"sammyListing\"><a href=\"http://www.chicagomag.com/Chicago-Magazine/November-2012/Best-Sandwiches-in-Chicago-Big-Jones-Toasted-Pimiento-Cheese/\"><b>Toasted Pimiento Cheese</b><br/>\r\n",
      "Big Jones<br/>\n",
      "<em>Read more</em> </a></div>\n",
      "</div>, <div class=\"sammy\" style=\"position: relative;\">\n",
      "<div class=\"sammyRank\">24</div>\n",
      "<div class=\"sammyListing\"><a href=\"http://www.chicagomag.com/Chicago-Magazine/November-2012/Best-Sandwiches-in-Chicago-La-Pane-Vegetarian-Panino/\"><b>Vegetarian Panino</b><br/>\r\n",
      "La Pane<br/>\n",
      "<em>Read more</em> </a></div>\n",
      "</div>, <div class=\"sammy\" style=\"position: relative;\">\n",
      "<div class=\"sammyRank\">25</div>\n",
      "<div class=\"sammyListing\"><a href=\"/Chicago-Magazine/November-2012/Best-Sandwiches-in-Chicago-Pastoral-Cali-Chevre/\"><b>Cali Chèvre</b><br/>\r\n",
      "Pastoral<br/>\n",
      "<em>Read more</em> </a></div>\n",
      "</div>, <div class=\"sammy\" style=\"position: relative;\">\n",
      "<div class=\"sammyRank\">26</div>\n",
      "<div class=\"sammyListing\"><a href=\"http://www.chicagomag.com/Chicago-Magazine/November-2012/Best-Sandwiches-in-Chicago-Maxs-Deli-Pastrami/\"><b>Pastrami</b><br/>\r\n",
      "Max’s Deli<br/>\n",
      "<em>Read more</em> </a></div>\n",
      "</div>, <div class=\"sammy\" style=\"position: relative;\">\n",
      "<div class=\"sammyRank\">27</div>\n",
      "<div class=\"sammyListing\"><a href=\"http://www.chicagomag.com/Chicago-Magazine/November-2012/Best-Sandwiches-in-Chicago-Luckys-Sandwich-Co-The-Fredo/\"><b>The Fredo</b><br/>\r\n",
      "Lucky’s Sandwich Co.<br/>\n",
      "<em>Read more</em> </a></div>\n",
      "</div>, <div class=\"sammy\" style=\"position: relative;\">\n",
      "<div class=\"sammyRank\">28</div>\n",
      "<div class=\"sammyListing\"><a href=\"http://www.chicagomag.com/Chicago-Magazine/November-2012/Best-Sandwiches-in-Chicago-City-Provisions-Smoked-Ham/\"><b>Smoked Ham</b><br/>\r\n",
      "City Provisions<br/>\n",
      "<em>Read more</em> </a></div>\n",
      "</div>, <div class=\"sammy\" style=\"position: relative;\">\n",
      "<div class=\"sammyRank\">29</div>\n",
      "<div class=\"sammyListing\"><a href=\"http://www.chicagomag.com/Chicago-Magazine/November-2012/Best-Sandwiches-in-Chicago-Papas-Cache-Sabroso-Jibarito/\"><b>Jibarito</b><br/>\r\n",
      "Papa’s Cache Sabroso<br/>\n",
      "<em>Read more</em> </a></div>\n",
      "</div>, <div class=\"sammy\" style=\"position: relative;\">\n",
      "<div class=\"sammyRank\">30</div>\n",
      "<div class=\"sammyListing\"><a href=\"http://www.chicagomag.com/Chicago-Magazine/November-2012/Best-Sandwiches-in-Chicago-Bavettes-Bar-and-Boeuf-Shaved-Prime-Rib/\"><b>Shaved Prime Rib</b><br/>\r\n",
      "Bavette’s Bar &amp; Boeuf<br/>\n",
      "<em>Read more</em> </a></div>\n",
      "</div>, <div class=\"sammy\" style=\"position: relative;\">\n",
      "<div class=\"sammyRank\">31</div>\n",
      "<div class=\"sammyListing\"><a href=\"http://www.chicagomag.com/Chicago-Magazine/November-2012/Best-Sandwiches-in-Chicago-Hannahs-Bretzel-Serrano-Ham-and-Manchego-Cheese/\"><b>Serrano Ham and Manchego Cheese</b><br/>\r\n",
      "Hannah’s Bretzel<br/>\n",
      "<em>Read more</em> </a></div>\n",
      "</div>, <div class=\"sammy\" style=\"position: relative;\">\n",
      "<div class=\"sammyRank\">32</div>\n",
      "<div class=\"sammyListing\"><a href=\"http://www.chicagomag.com/Chicago-Magazine/November-2012/Best-Sandwiches-in-Chicago-La-Fournette-Tuna-Salad/\"><b>Tuna Salad</b><br/>\r\n",
      "La Fournette<br/>\n",
      "<em>Read more</em> </a></div>\n",
      "</div>, <div class=\"sammy\" style=\"position: relative;\">\n",
      "<div class=\"sammyRank\">33</div>\n",
      "<div class=\"sammyListing\"><a href=\"http://www.chicagomag.com/Chicago-Magazine/November-2012/Best-Sandwiches-in-Chicago-Paramount-Room-Paramount-Reuben/\"><b>Paramount Reuben</b><br/>\r\n",
      "Paramount Room<br/>\n",
      "<em>Read more</em> </a></div>\n",
      "</div>, <div class=\"sammy\" style=\"position: relative;\">\n",
      "<div class=\"sammyRank\">34</div>\n",
      "<div class=\"sammyListing\"><a href=\"http://www.chicagomag.com/Chicago-Magazine/November-2012/Best-Sandwiches-in-Chicago-Melt-Sandwich-Shoppe-The-Istanbul/\"><b>The Istanbul</b><br/>\r\n",
      "Melt Sandwich Shoppe<br/>\n",
      "<em>Read more</em> </a></div>\n",
      "</div>, <div class=\"sammy\" style=\"position: relative;\">\n",
      "<div class=\"sammyRank\">35</div>\n",
      "<div class=\"sammyListing\"><a href=\"http://www.chicagomag.com/Chicago-Magazine/November-2012/Best-Sandwiches-in-Chicago-Floriole-Cafe-and-Bakery-BAD/\"><b>B.A.D.</b><br/>\r\n",
      "Floriole Cafe &amp; Bakery<br/>\n",
      "<em>Read more</em> </a></div>\n",
      "</div>, <div class=\"sammy\" style=\"position: relative;\">\n",
      "<div class=\"sammyRank\">36</div>\n",
      "<div class=\"sammyListing\"><a href=\"http://www.chicagomag.com/Chicago-Magazine/November-2012/Best-Sandwiches-in-Chicago-First-Slice-Pie-Cafe-Duck-Confit-and-Mozzarella/\"><b>Duck Confit and Mozzarella</b><br/>\r\n",
      "First Slice Pie Café<br/>\n",
      "<em>Read more</em> </a></div>\n",
      "</div>, <div class=\"sammy\" style=\"position: relative;\">\n",
      "<div class=\"sammyRank\">37</div>\n",
      "<div class=\"sammyListing\"><a href=\"http://www.chicagomag.com/Chicago-Magazine/November-2012/Best-Sandwiches-in-Chicago-Troquet-Croque-Monsieur/\"><b>Croque Monsieur</b><br/>\r\n",
      "Troquet<br/>\n",
      "<em>Read more</em> </a></div>\n",
      "</div>, <div class=\"sammy\" style=\"position: relative;\">\n",
      "<div class=\"sammyRank\">38</div>\n",
      "<div class=\"sammyListing\"><a href=\"http://www.chicagomag.com/Chicago-Magazine/November-2012/Best-Sandwiches-in-Chicago-Grahamwich-Green-Garbanzo/\"><b>Green Garbanzo</b><br/>\r\n",
      "Grahamwich<br/>\n",
      "<em>Read more</em> </a></div>\n",
      "</div>, <div class=\"sammy\" style=\"position: relative;\">\n",
      "<div class=\"sammyRank\">39</div>\n",
      "<div class=\"sammyListing\"><a href=\"http://www.chicagomag.com/Chicago-Magazine/November-2012/Best-Sandwiches-in-Chicago-Saigon-Sisters-The-Hen-House/\"><b>The Hen House</b><br/>\r\n",
      "Saigon Sisters<br/>\n",
      "<em>Read more</em> </a></div>\n",
      "</div>, <div class=\"sammy\" style=\"position: relative;\">\n",
      "<div class=\"sammyRank\">40</div>\n",
      "<div class=\"sammyListing\"><a href=\"http://www.chicagomag.com/Chicago-Magazine/November-2012/Best-Sandwiches-in-Chicago-Rosalias-Deli-Tuscan-Chicken/\"><b>Tuscan Chicken</b><br/>\r\n",
      "Rosalia’s Deli<br/>\n",
      "<em>Read more</em> </a></div>\n",
      "</div>, <div class=\"sammy\" style=\"position: relative;\">\n",
      "<div class=\"sammyRank\">41</div>\n",
      "<div class=\"sammyListing\"><a href=\"http://www.chicagomag.com/Chicago-Magazine/November-2012/Best-Sandwiches-in-Chicago-Z-and-H-MarketCafe-The-Marty/\"><b>The Marty </b><br/>\r\n",
      "Z&amp;H MarketCafe<br/>\n",
      "<em>Read more</em> </a></div>\n",
      "</div>, <div class=\"sammy\" style=\"position: relative;\">\n",
      "<div class=\"sammyRank\">42</div>\n",
      "<div class=\"sammyListing\"><a href=\"http://www.chicagomag.com/Chicago-Magazine/November-2012/Best-Sandwiches-in-Chicago-Market-House-on-the-Square-Whitefish/\"><b>Whitefish</b><br/>\r\n",
      "Market House on the Square<br/>\n",
      "<em>Read more</em> </a></div>\n",
      "</div>, <div class=\"sammy\" style=\"position: relative;\">\n",
      "<div class=\"sammyRank\">43</div>\n",
      "<div class=\"sammyListing\"><a href=\"http://www.chicagomag.com/Chicago-Magazine/November-2012/Best-Sandwiches-in-Chicago-Elaines-Coffee-Call-Oat-Bread-Pecan-Butter-and-Fruit-Jam/\"><b>Oat Bread, Pecan Butter, and Fruit Jam</b><br/>\r\n",
      "Elaine’s Coffee Call<br/>\n",
      "<em>Read more</em> </a></div>\n",
      "</div>, <div class=\"sammy\" style=\"position: relative;\">\n",
      "<div class=\"sammyRank\">44</div>\n",
      "<div class=\"sammyListing\"><a href=\"http://www.chicagomag.com/Chicago-Magazine/November-2012/Best-Sandwiches-in-Chicago-Marion-Street-Cheese-Market-Cauliflower-Melt/\"><b>Cauliflower Melt</b><br/>\r\n",
      "Marion Street Cheese Market<br/>\n",
      "<em>Read more</em> </a></div>\n",
      "</div>, <div class=\"sammy\" style=\"position: relative;\">\n",
      "<div class=\"sammyRank\">45</div>\n",
      "<div class=\"sammyListing\"><a href=\"http://www.chicagomag.com/Chicago-Magazine/November-2012/Best-Sandwiches-in-Chicago-Cafecito-Cubano/\"><b>Cubana</b><br/>\r\n",
      "Cafecito<br/>\n",
      "<em>Read more</em> </a></div>\n",
      "</div>, <div class=\"sammy\" style=\"position: relative;\">\n",
      "<div class=\"sammyRank\">46</div>\n",
      "<div class=\"sammyListing\"><a href=\"http://www.chicagomag.com/Chicago-Magazine/November-2012/Best-Sandwiches-in-Chicago-Chickpea-Kufta/\"><b>Kufta</b><br/>\r\n",
      "Chickpea<br/>\n",
      "<em>Read more</em> </a></div>\n",
      "</div>, <div class=\"sammy\" style=\"position: relative;\">\n",
      "<div class=\"sammyRank\">47</div>\n",
      "<div class=\"sammyListing\"><a href=\"http://www.chicagomag.com/Chicago-Magazine/November-2012/Best-Sandwiches-in-Chicago-The-Goddess-and-Grocer-Debbies-Egg-Salad/\"><b>Debbie’s Egg Salad</b><br/>\r\n",
      "The Goddess and Grocer<br/>\n",
      "<em>Read more</em> </a></div>\n",
      "</div>, <div class=\"sammy\" style=\"position: relative;\">\n",
      "<div class=\"sammyRank\">48</div>\n",
      "<div class=\"sammyListing\"><a href=\"http://www.chicagomag.com/Chicago-Magazine/November-2012/Best-Sandwiches-in-Chicago-Zenwich-Beef-Curry/\"><b>Beef Curry</b><br/>\r\n",
      "Zenwich<br/>\n",
      "<em>Read more</em> </a></div>\n",
      "</div>, <div class=\"sammy\" style=\"position: relative;\">\n",
      "<div class=\"sammyRank\">49</div>\n",
      "<div class=\"sammyListing\"><a href=\"http://www.chicagomag.com/Chicago-Magazine/November-2012/Best-Sandwiches-in-Chicago-Toni-Patisserie-Le-Vegetarien/\"><b>Le Végétarien</b><br/>\r\n",
      "Toni Patisserie<br/>\n",
      "<em>Read more</em> </a></div>\n",
      "</div>, <div class=\"sammy\" style=\"position: relative; border-bottom: 0\">\n",
      "<div class=\"sammyRank\">50</div>\n",
      "<div class=\"sammyListing\"><a href=\"http://www.chicagomag.com/Chicago-Magazine/November-2012/Best-Sandwiches-in-Chicago-Phoebes-Bakery-The-Gatsby/\"><b>The Gatsby</b><br/>\r\n",
      "Phoebe’s Bakery<br/>\n",
      "<em>Read more</em> </a></div>\n",
      "</div>]\n"
     ]
    }
   ],
   "source": [
    "print(soup.find_all('div', 'sammy'))"
   ]
  },
  {
   "cell_type": "code",
   "execution_count": 20,
   "metadata": {},
   "outputs": [
    {
     "data": {
      "text/plain": [
       "50"
      ]
     },
     "execution_count": 20,
     "metadata": {},
     "output_type": "execute_result"
    }
   ],
   "source": [
    "len(soup.find_all('div', 'sammy'))"
   ]
  },
  {
   "cell_type": "code",
   "execution_count": 21,
   "metadata": {},
   "outputs": [
    {
     "name": "stdout",
     "output_type": "stream",
     "text": [
      "[<div class=\"sammyListing\"><a href=\"/Chicago-Magazine/November-2012/Best-Sandwiches-in-Chicago-Old-Oak-Tap-BLT/\"><b>BLT</b><br/>\r\n",
      "Old Oak Tap<br/>\n",
      "<em>Read more</em> </a></div>, <div class=\"sammyListing\"><a href=\"/Chicago-Magazine/November-2012/Best-Sandwiches-in-Chicago-Au-Cheval-Fried-Bologna/\"><b>Fried Bologna</b><br/>\r\n",
      "Au Cheval<br/>\n",
      "<em>Read more</em> </a></div>, <div class=\"sammyListing\"><a href=\"/Chicago-Magazine/November-2012/Best-Sandwiches-in-Chicago-Xoco-Woodland-Mushroom/\"><b>Woodland Mushroom</b><br/>\r\n",
      "Xoco<br/>\n",
      "<em>Read more</em> </a></div>, <div class=\"sammyListing\"><a href=\"/Chicago-Magazine/November-2012/Best-Sandwiches-in-Chicago-Als-Deli-Roast-Beef/\"><b>Roast Beef</b><br/>\r\n",
      "Al’s Deli<br/>\n",
      "<em>Read more</em> </a></div>, <div class=\"sammyListing\"><a href=\"/Chicago-Magazine/November-2012/Best-Sandwiches-in-Chicago-Publican-Quality-Meats-PB-L/\"><b>PB&amp;L</b><br/>\r\n",
      "Publican Quality Meats<br/>\n",
      "<em>Read more</em> </a></div>, <div class=\"sammyListing\"><a href=\"http://www.chicagomag.com/Chicago-Magazine/November-2012/Best-Sandwiches-in-Chicago-Hendrickx-Belgian-Bread-Crafter-Belgian-Chicken-Curry-Salad/\"><b>Belgian Chicken Curry Salad</b><br/>\r\n",
      "Hendrickx Belgian Bread Crafter<br/>\n",
      "<em>Read more</em> </a></div>, <div class=\"sammyListing\"><a href=\"/Chicago-Magazine/November-2012/Best-Sandwiches-in-Chicago-Acadia-Lobster-Roll/\"><b>Lobster Roll</b><br/>\r\n",
      "Acadia<br/>\n",
      "<em>Read more</em> </a></div>, <div class=\"sammyListing\"><a href=\"/Chicago-Magazine/November-2012/Best-Sandwiches-in-Chicago-Birchwood-Kitchen-Smoked-Salmon-Salad/\"><b>Smoked Salmon Salad</b><br/>\r\n",
      "Birchwood Kitchen<br/>\n",
      "<em>Read more</em> </a></div>, <div class=\"sammyListing\"><a href=\"/Chicago-Magazine/November-2012/Best-Sandwiches-in-Chicago-Cemitas-Puebla-Atomica-Cemitas/\"><b>Atomica Cemitas</b><br/>\r\n",
      "Cemitas Puebla<br/>\n",
      "<em>Read more</em> </a></div>, <div class=\"sammyListing\"><a href=\"/Chicago-Magazine/November-2012/Best-Sandwiches-in-Chicago-Nana-Grilled-Laughing-Bird-Shrimp-and-Fried-Oyster-Po-Boy/\"><b>Grilled Laughing Bird Shrimp and Fried Po’ Boy</b><br/>\r\n",
      "Nana<br/>\n",
      "<em>Read more</em> </a></div>, <div class=\"sammyListing\"><a href=\"http://www.chicagomag.com/Chicago-Magazine/November-2012/Best-Sandwiches-in-Chicago-Lula-Cafe-Ham-and-Raclette-Panino/\"><b>Ham and Raclette Panino</b><br/>\r\n",
      "Lula Cafe<br/>\n",
      "<em>Read more</em> </a></div>, <div class=\"sammyListing\"><a href=\"http://www.chicagomag.com/Chicago-Magazine/November-2012/Best-Sandwiches-in-Chicago-Ricobenes-Breaded-Steak/\"><b>Breaded Steak</b><br/>\r\n",
      "Ricobene’s<br/>\n",
      "<em>Read more</em> </a></div>, <div class=\"sammyListing\"><a href=\"http://www.chicagomag.com/Chicago-Magazine/November-2012/Best-Sandwiches-in-Chicago-Frog-n-Snail-The-Hawkeye/\"><b>The Hawkeye</b><br/>\r\n",
      "Frog n Snail<br/>\n",
      "<em>Read more</em> </a></div>, <div class=\"sammyListing\"><a href=\"http://www.chicagomag.com/Chicago-Magazine/November-2012/Best-Sandwiches-in-Chicago-Crosbys-Kitchen-Chicken-Dip/\"><b>Chicken Dip</b><br/>\r\n",
      "Crosby’s Kitchen<br/>\n",
      "<em>Read more</em> </a></div>, <div class=\"sammyListing\"><a href=\"http://www.chicagomag.com/Chicago-Magazine/November-2012/Best-Sandwiches-in-Chicago-Longman-and-Eagle-Wild-Boar-Sloppy-Joe/\"><b>Wild Boar Sloppy Joe</b><br/>\r\n",
      "Longman &amp; Eagle<br/>\n",
      "<em>Read more</em> </a></div>, <div class=\"sammyListing\"><a href=\"http://www.chicagomag.com/Chicago-Magazine/November-2012/Best-Sandwiches-in-Chicago-Bari-Meatball-Sub/\"><b>Meatball Sub</b><br/>\r\n",
      "Bari<br/>\n",
      "<em>Read more</em> </a></div>, <div class=\"sammyListing\"><a href=\"http://www.chicagomag.com/Chicago-Magazine/November-2012/Best-Sandwiches-in-Chicago-Mannys-Corned-Beef/\"><b>Corned Beef</b><br/>\r\n",
      "Manny’s<br/>\n",
      "<em>Read more</em> </a></div>, <div class=\"sammyListing\"><a href=\"http://www.chicagomag.com/Chicago-Magazine/November-2012/Best-Sandwiches-in-Chicago-Eggys-Turkey-Club/\"><b>Turkey Club</b><br/>\r\n",
      "Eggy’s<br/>\n",
      "<em>Read more</em> </a></div>, <div class=\"sammyListing\"><a href=\"http://www.chicagomag.com/Chicago-Magazine/November-2012/Best-Sandwiches-in-Chicago-Old-Jerusalem-Falafel/\"><b>Falafel</b><br/>\r\n",
      "Old Jerusalem<br/>\n",
      "<em>Read more</em> </a></div>, <div class=\"sammyListing\"><a href=\"http://www.chicagomag.com/Chicago-Magazine/November-2012/Best-Sandwiches-in-Chicago-Mindys-HotChocolate-Crab-Cake/\"><b>Crab Cake</b><br/>\r\n",
      "Mindy’s HotChocolate<br/>\n",
      "<em>Read more</em> </a></div>, <div class=\"sammyListing\"><a href=\"http://www.chicagomag.com/Chicago-Magazine/November-2012/Best-Sandwiches-in-Chicago-Olgas-Delicatessen-Chicken-Schnitzel/\"><b>Chicken Schnitzel</b><br/>\r\n",
      "Olga’s Delicatessen<br/>\n",
      "<em>Read more</em> </a></div>, <div class=\"sammyListing\"><a href=\"http://www.chicagomag.com/Chicago-Magazine/November-2012/Best-Sandwiches-in-Chicago-Dawali-Mediterranean-Kitchen-Shawarma/\"><b>Shawarma</b><br/>\r\n",
      "Dawali Mediterranean Kitchen<br/>\n",
      "<em>Read more</em> </a></div>, <div class=\"sammyListing\"><a href=\"http://www.chicagomag.com/Chicago-Magazine/November-2012/Best-Sandwiches-in-Chicago-Big-Jones-Toasted-Pimiento-Cheese/\"><b>Toasted Pimiento Cheese</b><br/>\r\n",
      "Big Jones<br/>\n",
      "<em>Read more</em> </a></div>, <div class=\"sammyListing\"><a href=\"http://www.chicagomag.com/Chicago-Magazine/November-2012/Best-Sandwiches-in-Chicago-La-Pane-Vegetarian-Panino/\"><b>Vegetarian Panino</b><br/>\r\n",
      "La Pane<br/>\n",
      "<em>Read more</em> </a></div>, <div class=\"sammyListing\"><a href=\"/Chicago-Magazine/November-2012/Best-Sandwiches-in-Chicago-Pastoral-Cali-Chevre/\"><b>Cali Chèvre</b><br/>\r\n",
      "Pastoral<br/>\n",
      "<em>Read more</em> </a></div>, <div class=\"sammyListing\"><a href=\"http://www.chicagomag.com/Chicago-Magazine/November-2012/Best-Sandwiches-in-Chicago-Maxs-Deli-Pastrami/\"><b>Pastrami</b><br/>\r\n",
      "Max’s Deli<br/>\n",
      "<em>Read more</em> </a></div>, <div class=\"sammyListing\"><a href=\"http://www.chicagomag.com/Chicago-Magazine/November-2012/Best-Sandwiches-in-Chicago-Luckys-Sandwich-Co-The-Fredo/\"><b>The Fredo</b><br/>\r\n",
      "Lucky’s Sandwich Co.<br/>\n",
      "<em>Read more</em> </a></div>, <div class=\"sammyListing\"><a href=\"http://www.chicagomag.com/Chicago-Magazine/November-2012/Best-Sandwiches-in-Chicago-City-Provisions-Smoked-Ham/\"><b>Smoked Ham</b><br/>\r\n",
      "City Provisions<br/>\n",
      "<em>Read more</em> </a></div>, <div class=\"sammyListing\"><a href=\"http://www.chicagomag.com/Chicago-Magazine/November-2012/Best-Sandwiches-in-Chicago-Papas-Cache-Sabroso-Jibarito/\"><b>Jibarito</b><br/>\r\n",
      "Papa’s Cache Sabroso<br/>\n",
      "<em>Read more</em> </a></div>, <div class=\"sammyListing\"><a href=\"http://www.chicagomag.com/Chicago-Magazine/November-2012/Best-Sandwiches-in-Chicago-Bavettes-Bar-and-Boeuf-Shaved-Prime-Rib/\"><b>Shaved Prime Rib</b><br/>\r\n",
      "Bavette’s Bar &amp; Boeuf<br/>\n",
      "<em>Read more</em> </a></div>, <div class=\"sammyListing\"><a href=\"http://www.chicagomag.com/Chicago-Magazine/November-2012/Best-Sandwiches-in-Chicago-Hannahs-Bretzel-Serrano-Ham-and-Manchego-Cheese/\"><b>Serrano Ham and Manchego Cheese</b><br/>\r\n",
      "Hannah’s Bretzel<br/>\n",
      "<em>Read more</em> </a></div>, <div class=\"sammyListing\"><a href=\"http://www.chicagomag.com/Chicago-Magazine/November-2012/Best-Sandwiches-in-Chicago-La-Fournette-Tuna-Salad/\"><b>Tuna Salad</b><br/>\r\n",
      "La Fournette<br/>\n",
      "<em>Read more</em> </a></div>, <div class=\"sammyListing\"><a href=\"http://www.chicagomag.com/Chicago-Magazine/November-2012/Best-Sandwiches-in-Chicago-Paramount-Room-Paramount-Reuben/\"><b>Paramount Reuben</b><br/>\r\n",
      "Paramount Room<br/>\n",
      "<em>Read more</em> </a></div>, <div class=\"sammyListing\"><a href=\"http://www.chicagomag.com/Chicago-Magazine/November-2012/Best-Sandwiches-in-Chicago-Melt-Sandwich-Shoppe-The-Istanbul/\"><b>The Istanbul</b><br/>\r\n",
      "Melt Sandwich Shoppe<br/>\n",
      "<em>Read more</em> </a></div>, <div class=\"sammyListing\"><a href=\"http://www.chicagomag.com/Chicago-Magazine/November-2012/Best-Sandwiches-in-Chicago-Floriole-Cafe-and-Bakery-BAD/\"><b>B.A.D.</b><br/>\r\n",
      "Floriole Cafe &amp; Bakery<br/>\n",
      "<em>Read more</em> </a></div>, <div class=\"sammyListing\"><a href=\"http://www.chicagomag.com/Chicago-Magazine/November-2012/Best-Sandwiches-in-Chicago-First-Slice-Pie-Cafe-Duck-Confit-and-Mozzarella/\"><b>Duck Confit and Mozzarella</b><br/>\r\n",
      "First Slice Pie Café<br/>\n",
      "<em>Read more</em> </a></div>, <div class=\"sammyListing\"><a href=\"http://www.chicagomag.com/Chicago-Magazine/November-2012/Best-Sandwiches-in-Chicago-Troquet-Croque-Monsieur/\"><b>Croque Monsieur</b><br/>\r\n",
      "Troquet<br/>\n",
      "<em>Read more</em> </a></div>, <div class=\"sammyListing\"><a href=\"http://www.chicagomag.com/Chicago-Magazine/November-2012/Best-Sandwiches-in-Chicago-Grahamwich-Green-Garbanzo/\"><b>Green Garbanzo</b><br/>\r\n",
      "Grahamwich<br/>\n",
      "<em>Read more</em> </a></div>, <div class=\"sammyListing\"><a href=\"http://www.chicagomag.com/Chicago-Magazine/November-2012/Best-Sandwiches-in-Chicago-Saigon-Sisters-The-Hen-House/\"><b>The Hen House</b><br/>\r\n",
      "Saigon Sisters<br/>\n",
      "<em>Read more</em> </a></div>, <div class=\"sammyListing\"><a href=\"http://www.chicagomag.com/Chicago-Magazine/November-2012/Best-Sandwiches-in-Chicago-Rosalias-Deli-Tuscan-Chicken/\"><b>Tuscan Chicken</b><br/>\r\n",
      "Rosalia’s Deli<br/>\n",
      "<em>Read more</em> </a></div>, <div class=\"sammyListing\"><a href=\"http://www.chicagomag.com/Chicago-Magazine/November-2012/Best-Sandwiches-in-Chicago-Z-and-H-MarketCafe-The-Marty/\"><b>The Marty </b><br/>\r\n",
      "Z&amp;H MarketCafe<br/>\n",
      "<em>Read more</em> </a></div>, <div class=\"sammyListing\"><a href=\"http://www.chicagomag.com/Chicago-Magazine/November-2012/Best-Sandwiches-in-Chicago-Market-House-on-the-Square-Whitefish/\"><b>Whitefish</b><br/>\r\n",
      "Market House on the Square<br/>\n",
      "<em>Read more</em> </a></div>, <div class=\"sammyListing\"><a href=\"http://www.chicagomag.com/Chicago-Magazine/November-2012/Best-Sandwiches-in-Chicago-Elaines-Coffee-Call-Oat-Bread-Pecan-Butter-and-Fruit-Jam/\"><b>Oat Bread, Pecan Butter, and Fruit Jam</b><br/>\r\n",
      "Elaine’s Coffee Call<br/>\n",
      "<em>Read more</em> </a></div>, <div class=\"sammyListing\"><a href=\"http://www.chicagomag.com/Chicago-Magazine/November-2012/Best-Sandwiches-in-Chicago-Marion-Street-Cheese-Market-Cauliflower-Melt/\"><b>Cauliflower Melt</b><br/>\r\n",
      "Marion Street Cheese Market<br/>\n",
      "<em>Read more</em> </a></div>, <div class=\"sammyListing\"><a href=\"http://www.chicagomag.com/Chicago-Magazine/November-2012/Best-Sandwiches-in-Chicago-Cafecito-Cubano/\"><b>Cubana</b><br/>\r\n",
      "Cafecito<br/>\n",
      "<em>Read more</em> </a></div>, <div class=\"sammyListing\"><a href=\"http://www.chicagomag.com/Chicago-Magazine/November-2012/Best-Sandwiches-in-Chicago-Chickpea-Kufta/\"><b>Kufta</b><br/>\r\n",
      "Chickpea<br/>\n",
      "<em>Read more</em> </a></div>, <div class=\"sammyListing\"><a href=\"http://www.chicagomag.com/Chicago-Magazine/November-2012/Best-Sandwiches-in-Chicago-The-Goddess-and-Grocer-Debbies-Egg-Salad/\"><b>Debbie’s Egg Salad</b><br/>\r\n",
      "The Goddess and Grocer<br/>\n",
      "<em>Read more</em> </a></div>, <div class=\"sammyListing\"><a href=\"http://www.chicagomag.com/Chicago-Magazine/November-2012/Best-Sandwiches-in-Chicago-Zenwich-Beef-Curry/\"><b>Beef Curry</b><br/>\r\n",
      "Zenwich<br/>\n",
      "<em>Read more</em> </a></div>, <div class=\"sammyListing\"><a href=\"http://www.chicagomag.com/Chicago-Magazine/November-2012/Best-Sandwiches-in-Chicago-Toni-Patisserie-Le-Vegetarien/\"><b>Le Végétarien</b><br/>\r\n",
      "Toni Patisserie<br/>\n",
      "<em>Read more</em> </a></div>, <div class=\"sammyListing\"><a href=\"http://www.chicagomag.com/Chicago-Magazine/November-2012/Best-Sandwiches-in-Chicago-Phoebes-Bakery-The-Gatsby/\"><b>The Gatsby</b><br/>\r\n",
      "Phoebe’s Bakery<br/>\n",
      "<em>Read more</em> </a></div>]\n"
     ]
    }
   ],
   "source": [
    "print(soup.find_all('div', 'sammyListing'))\n"
   ]
  },
  {
   "cell_type": "code",
   "execution_count": 22,
   "metadata": {},
   "outputs": [
    {
     "name": "stdout",
     "output_type": "stream",
     "text": [
      "[<div class=\"sammyRank\">1</div>, <div class=\"sammyRank\">2</div>, <div class=\"sammyRank\">3</div>, <div class=\"sammyRank\">4</div>, <div class=\"sammyRank\">5</div>, <div class=\"sammyRank\">6</div>, <div class=\"sammyRank\">7</div>, <div class=\"sammyRank\">8</div>, <div class=\"sammyRank\">9</div>, <div class=\"sammyRank\">10</div>, <div class=\"sammyRank\">11</div>, <div class=\"sammyRank\">12</div>, <div class=\"sammyRank\">13</div>, <div class=\"sammyRank\">14</div>, <div class=\"sammyRank\">15</div>, <div class=\"sammyRank\">16</div>, <div class=\"sammyRank\">17</div>, <div class=\"sammyRank\">18</div>, <div class=\"sammyRank\">19</div>, <div class=\"sammyRank\">20</div>, <div class=\"sammyRank\">21</div>, <div class=\"sammyRank\">22</div>, <div class=\"sammyRank\">23</div>, <div class=\"sammyRank\">24</div>, <div class=\"sammyRank\">25</div>, <div class=\"sammyRank\">26</div>, <div class=\"sammyRank\">27</div>, <div class=\"sammyRank\">28</div>, <div class=\"sammyRank\">29</div>, <div class=\"sammyRank\">30</div>, <div class=\"sammyRank\">31</div>, <div class=\"sammyRank\">32</div>, <div class=\"sammyRank\">33</div>, <div class=\"sammyRank\">34</div>, <div class=\"sammyRank\">35</div>, <div class=\"sammyRank\">36</div>, <div class=\"sammyRank\">37</div>, <div class=\"sammyRank\">38</div>, <div class=\"sammyRank\">39</div>, <div class=\"sammyRank\">40</div>, <div class=\"sammyRank\">41</div>, <div class=\"sammyRank\">42</div>, <div class=\"sammyRank\">43</div>, <div class=\"sammyRank\">44</div>, <div class=\"sammyRank\">45</div>, <div class=\"sammyRank\">46</div>, <div class=\"sammyRank\">47</div>, <div class=\"sammyRank\">48</div>, <div class=\"sammyRank\">49</div>, <div class=\"sammyRank\">50</div>]\n"
     ]
    }
   ],
   "source": [
    "print(soup.find_all('div', 'sammyRank'))"
   ]
  },
  {
   "cell_type": "code",
   "execution_count": 23,
   "metadata": {},
   "outputs": [
    {
     "data": {
      "text/plain": [
       "'1'"
      ]
     },
     "execution_count": 23,
     "metadata": {},
     "output_type": "execute_result"
    }
   ],
   "source": [
    "tmp = soup.find_all('div', 'sammyRank')\n",
    "tmp[0].get_text()"
   ]
  },
  {
   "cell_type": "code",
   "execution_count": 24,
   "metadata": {},
   "outputs": [
    {
     "data": {
      "text/plain": [
       "<div class=\"sammy\" style=\"position: relative;\">\n",
       "<div class=\"sammyRank\">1</div>\n",
       "<div class=\"sammyListing\"><a href=\"/Chicago-Magazine/November-2012/Best-Sandwiches-in-Chicago-Old-Oak-Tap-BLT/\"><b>BLT</b><br/>\n",
       "Old Oak Tap<br/>\n",
       "<em>Read more</em> </a></div>\n",
       "</div>"
      ]
     },
     "execution_count": 24,
     "metadata": {},
     "output_type": "execute_result"
    }
   ],
   "source": [
    "listOfsoup = soup.find_all('div', 'sammy')\n",
    "listOfsoup[0]"
   ]
  },
  {
   "cell_type": "code",
   "execution_count": 25,
   "metadata": {},
   "outputs": [
    {
     "data": {
      "text/plain": [
       "['1', '2', '3', '4', '5', '6', '7', '8', '9', '10']"
      ]
     },
     "execution_count": 25,
     "metadata": {},
     "output_type": "execute_result"
    }
   ],
   "source": [
    "rank = []\n",
    "\n",
    "for item in listOfsoup:\n",
    "    rank.append(item.find('div', 'sammyRank').get_text())\n",
    "    \n",
    "rank[:10]"
   ]
  },
  {
   "cell_type": "code",
   "execution_count": 26,
   "metadata": {},
   "outputs": [
    {
     "data": {
      "text/plain": [
       "'BLT\\r\\nOld Oak Tap\\nRead more '"
      ]
     },
     "execution_count": 26,
     "metadata": {},
     "output_type": "execute_result"
    }
   ],
   "source": [
    "listOfsoup[0].find(\"a\").get_text()"
   ]
  },
  {
   "cell_type": "code",
   "execution_count": 27,
   "metadata": {},
   "outputs": [
    {
     "data": {
      "text/plain": [
       "'/Chicago-Magazine/November-2012/Best-Sandwiches-in-Chicago-Old-Oak-Tap-BLT/'"
      ]
     },
     "execution_count": 27,
     "metadata": {},
     "output_type": "execute_result"
    }
   ],
   "source": [
    "listOfsoup[0].find(\"a\")['href']"
   ]
  },
  {
   "cell_type": "code",
   "execution_count": 28,
   "metadata": {},
   "outputs": [
    {
     "data": {
      "text/plain": [
       "'BLT\\r\\nOld Oak Tap\\nRead more '"
      ]
     },
     "execution_count": 28,
     "metadata": {},
     "output_type": "execute_result"
    }
   ],
   "source": [
    "import re\n",
    "tmpString = str(listOfsoup[0].find(\"a\").get_text())\n",
    "tmpString"
   ]
  },
  {
   "cell_type": "code",
   "execution_count": 29,
   "metadata": {},
   "outputs": [
    {
     "data": {
      "text/plain": [
       "['BLT', 'Old Oak Tap', 'Read more ']"
      ]
     },
     "execution_count": 29,
     "metadata": {},
     "output_type": "execute_result"
    }
   ],
   "source": [
    "re.split(('\\n|\\r\\n'), tmpString)"
   ]
  },
  {
   "cell_type": "code",
   "execution_count": 30,
   "metadata": {},
   "outputs": [
    {
     "data": {
      "text/plain": [
       "'BLT'"
      ]
     },
     "execution_count": 30,
     "metadata": {},
     "output_type": "execute_result"
    }
   ],
   "source": [
    "re.split(('\\n|\\r\\n'), tmpString)[0]\n",
    "'BLT'"
   ]
  },
  {
   "cell_type": "code",
   "execution_count": 32,
   "metadata": {},
   "outputs": [
    {
     "data": {
      "text/plain": [
       "'Old Oak Tap'"
      ]
     },
     "execution_count": 32,
     "metadata": {},
     "output_type": "execute_result"
    }
   ],
   "source": [
    "re.split(('\\n|\\r\\n'), tmpString)[1]\n"
   ]
  },
  {
   "cell_type": "code",
   "execution_count": 33,
   "metadata": {},
   "outputs": [
    {
     "data": {
      "text/plain": [
       "'http://www.chicagomag.com/Chicago-Magazine/November-2012/Best-Sandwiches-in-Chicago-Lula-Cafe-Ham-and-Raclette-Panino/'"
      ]
     },
     "execution_count": 33,
     "metadata": {},
     "output_type": "execute_result"
    }
   ],
   "source": [
    "listOfsoup[10].find(\"a\")[\"href\"]"
   ]
  },
  {
   "cell_type": "code",
   "execution_count": 34,
   "metadata": {},
   "outputs": [
    {
     "data": {
      "text/plain": [
       "['1', '2', '3', '4', '5']"
      ]
     },
     "execution_count": 34,
     "metadata": {},
     "output_type": "execute_result"
    }
   ],
   "source": [
    "rank = []\n",
    "\n",
    "mainMenu = []\n",
    "cafeName = []\n",
    "urlAdd   = []\n",
    "\n",
    "for item in listOfsoup:\n",
    "    rank.append(item.find('div', 'sammyRank').get_text())\n",
    "    \n",
    "    tmpString = str(item.find(\"a\").get_text())\n",
    "    mainMenu.append(re.split(('\\n|\\r\\n'), tmpString)[0])\n",
    "    cafeName.append(re.split(('\\n|\\r\\n'), tmpString)[1])\n",
    "    \n",
    "    urlAdd.append(item.find(\"a\")[\"href\"])\n",
    "rank[:5]"
   ]
  },
  {
   "cell_type": "code",
   "execution_count": 35,
   "metadata": {},
   "outputs": [
    {
     "data": {
      "text/plain": [
       "['BLT', 'Fried Bologna', 'Woodland Mushroom', 'Roast Beef', 'PB&L']"
      ]
     },
     "execution_count": 35,
     "metadata": {},
     "output_type": "execute_result"
    }
   ],
   "source": [
    "mainMenu[:5]"
   ]
  },
  {
   "cell_type": "code",
   "execution_count": 36,
   "metadata": {},
   "outputs": [
    {
     "data": {
      "text/plain": [
       "['Old Oak Tap', 'Au Cheval', 'Xoco', 'Al’s Deli', 'Publican Quality Meats']"
      ]
     },
     "execution_count": 36,
     "metadata": {},
     "output_type": "execute_result"
    }
   ],
   "source": [
    "cafeName[:5]"
   ]
  },
  {
   "cell_type": "code",
   "execution_count": 37,
   "metadata": {},
   "outputs": [
    {
     "data": {
      "text/plain": [
       "['/Chicago-Magazine/November-2012/Best-Sandwiches-in-Chicago-Old-Oak-Tap-BLT/',\n",
       " '/Chicago-Magazine/November-2012/Best-Sandwiches-in-Chicago-Au-Cheval-Fried-Bologna/',\n",
       " '/Chicago-Magazine/November-2012/Best-Sandwiches-in-Chicago-Xoco-Woodland-Mushroom/',\n",
       " '/Chicago-Magazine/November-2012/Best-Sandwiches-in-Chicago-Als-Deli-Roast-Beef/',\n",
       " '/Chicago-Magazine/November-2012/Best-Sandwiches-in-Chicago-Publican-Quality-Meats-PB-L/',\n",
       " 'http://www.chicagomag.com/Chicago-Magazine/November-2012/Best-Sandwiches-in-Chicago-Hendrickx-Belgian-Bread-Crafter-Belgian-Chicken-Curry-Salad/',\n",
       " '/Chicago-Magazine/November-2012/Best-Sandwiches-in-Chicago-Acadia-Lobster-Roll/',\n",
       " '/Chicago-Magazine/November-2012/Best-Sandwiches-in-Chicago-Birchwood-Kitchen-Smoked-Salmon-Salad/',\n",
       " '/Chicago-Magazine/November-2012/Best-Sandwiches-in-Chicago-Cemitas-Puebla-Atomica-Cemitas/',\n",
       " '/Chicago-Magazine/November-2012/Best-Sandwiches-in-Chicago-Nana-Grilled-Laughing-Bird-Shrimp-and-Fried-Oyster-Po-Boy/']"
      ]
     },
     "execution_count": 37,
     "metadata": {},
     "output_type": "execute_result"
    }
   ],
   "source": [
    "urlAdd[:10]"
   ]
  },
  {
   "cell_type": "code",
   "execution_count": 38,
   "metadata": {},
   "outputs": [
    {
     "data": {
      "text/plain": [
       "'http'"
      ]
     },
     "execution_count": 38,
     "metadata": {},
     "output_type": "execute_result"
    }
   ],
   "source": [
    "urlAdd[5][:4]"
   ]
  },
  {
   "cell_type": "code",
   "execution_count": 39,
   "metadata": {},
   "outputs": [
    {
     "data": {
      "text/plain": [
       "['http://www.chicagomag.com/Chicago-Magazine/November-2012/Best-Sandwiches-in-Chicago-Old-Oak-Tap-BLT/',\n",
       " 'http://www.chicagomag.com/Chicago-Magazine/November-2012/Best-Sandwiches-in-Chicago-Au-Cheval-Fried-Bologna/',\n",
       " 'http://www.chicagomag.com/Chicago-Magazine/November-2012/Best-Sandwiches-in-Chicago-Xoco-Woodland-Mushroom/',\n",
       " 'http://www.chicagomag.com/Chicago-Magazine/November-2012/Best-Sandwiches-in-Chicago-Als-Deli-Roast-Beef/',\n",
       " 'http://www.chicagomag.com/Chicago-Magazine/November-2012/Best-Sandwiches-in-Chicago-Publican-Quality-Meats-PB-L/',\n",
       " 'http://www.chicagomag.com/Chicago-Magazine/November-2012/Best-Sandwiches-in-Chicago-Hendrickx-Belgian-Bread-Crafter-Belgian-Chicken-Curry-Salad/',\n",
       " 'http://www.chicagomag.com/Chicago-Magazine/November-2012/Best-Sandwiches-in-Chicago-Acadia-Lobster-Roll/',\n",
       " 'http://www.chicagomag.com/Chicago-Magazine/November-2012/Best-Sandwiches-in-Chicago-Birchwood-Kitchen-Smoked-Salmon-Salad/',\n",
       " 'http://www.chicagomag.com/Chicago-Magazine/November-2012/Best-Sandwiches-in-Chicago-Cemitas-Puebla-Atomica-Cemitas/',\n",
       " 'http://www.chicagomag.com/Chicago-Magazine/November-2012/Best-Sandwiches-in-Chicago-Nana-Grilled-Laughing-Bird-Shrimp-and-Fried-Oyster-Po-Boy/']"
      ]
     },
     "execution_count": 39,
     "metadata": {},
     "output_type": "execute_result"
    }
   ],
   "source": [
    "rank = []\n",
    "\n",
    "mainMenu = []\n",
    "cafeName = []\n",
    "urlAdd   = []\n",
    "\n",
    "for item in listOfsoup:\n",
    "    rank.append(item.find('div', 'sammyRank').get_text())\n",
    "    \n",
    "    tmpString = str(item.find(\"a\").get_text())\n",
    "    tmp = [tmpLine for tmpLine in re.split(('\\n|\\r\\n'), tmpString)]\n",
    "    mainMenu.append(tmp[0])\n",
    "    cafeName.append(tmp[1])\n",
    "    \n",
    "    tmp2 = item.find(\"a\")[\"href\"]\n",
    "    if tmp2[:4] != 'http':\n",
    "        urlAdd.append('http://www.chicagomag.com'+item.find(\"a\")[\"href\"])\n",
    "    else :\n",
    "        urlAdd.append(item.find(\"a\")[\"href\"])\n",
    "urlAdd[:10]"
   ]
  },
  {
   "cell_type": "code",
   "execution_count": 41,
   "metadata": {},
   "outputs": [
    {
     "data": {
      "text/html": [
       "<div>\n",
       "<style scoped>\n",
       "    .dataframe tbody tr th:only-of-type {\n",
       "        vertical-align: middle;\n",
       "    }\n",
       "\n",
       "    .dataframe tbody tr th {\n",
       "        vertical-align: top;\n",
       "    }\n",
       "\n",
       "    .dataframe thead th {\n",
       "        text-align: right;\n",
       "    }\n",
       "</style>\n",
       "<table border=\"1\" class=\"dataframe\">\n",
       "  <thead>\n",
       "    <tr style=\"text-align: right;\">\n",
       "      <th></th>\n",
       "      <th>Rank</th>\n",
       "      <th>Menu</th>\n",
       "      <th>Cafe</th>\n",
       "      <th>URL</th>\n",
       "    </tr>\n",
       "  </thead>\n",
       "  <tbody>\n",
       "    <tr>\n",
       "      <th>0</th>\n",
       "      <td>1</td>\n",
       "      <td>BLT</td>\n",
       "      <td>Old Oak Tap</td>\n",
       "      <td>http://www.chicagomag.com/Chicago-Magazine/Nov...</td>\n",
       "    </tr>\n",
       "    <tr>\n",
       "      <th>1</th>\n",
       "      <td>2</td>\n",
       "      <td>Fried Bologna</td>\n",
       "      <td>Au Cheval</td>\n",
       "      <td>http://www.chicagomag.com/Chicago-Magazine/Nov...</td>\n",
       "    </tr>\n",
       "    <tr>\n",
       "      <th>2</th>\n",
       "      <td>3</td>\n",
       "      <td>Woodland Mushroom</td>\n",
       "      <td>Xoco</td>\n",
       "      <td>http://www.chicagomag.com/Chicago-Magazine/Nov...</td>\n",
       "    </tr>\n",
       "    <tr>\n",
       "      <th>3</th>\n",
       "      <td>4</td>\n",
       "      <td>Roast Beef</td>\n",
       "      <td>Al’s Deli</td>\n",
       "      <td>http://www.chicagomag.com/Chicago-Magazine/Nov...</td>\n",
       "    </tr>\n",
       "    <tr>\n",
       "      <th>4</th>\n",
       "      <td>5</td>\n",
       "      <td>PB&amp;L</td>\n",
       "      <td>Publican Quality Meats</td>\n",
       "      <td>http://www.chicagomag.com/Chicago-Magazine/Nov...</td>\n",
       "    </tr>\n",
       "    <tr>\n",
       "      <th>5</th>\n",
       "      <td>6</td>\n",
       "      <td>Belgian Chicken Curry Salad</td>\n",
       "      <td>Hendrickx Belgian Bread Crafter</td>\n",
       "      <td>http://www.chicagomag.com/Chicago-Magazine/Nov...</td>\n",
       "    </tr>\n",
       "    <tr>\n",
       "      <th>6</th>\n",
       "      <td>7</td>\n",
       "      <td>Lobster Roll</td>\n",
       "      <td>Acadia</td>\n",
       "      <td>http://www.chicagomag.com/Chicago-Magazine/Nov...</td>\n",
       "    </tr>\n",
       "    <tr>\n",
       "      <th>7</th>\n",
       "      <td>8</td>\n",
       "      <td>Smoked Salmon Salad</td>\n",
       "      <td>Birchwood Kitchen</td>\n",
       "      <td>http://www.chicagomag.com/Chicago-Magazine/Nov...</td>\n",
       "    </tr>\n",
       "    <tr>\n",
       "      <th>8</th>\n",
       "      <td>9</td>\n",
       "      <td>Atomica Cemitas</td>\n",
       "      <td>Cemitas Puebla</td>\n",
       "      <td>http://www.chicagomag.com/Chicago-Magazine/Nov...</td>\n",
       "    </tr>\n",
       "    <tr>\n",
       "      <th>9</th>\n",
       "      <td>10</td>\n",
       "      <td>Grilled Laughing Bird Shrimp and Fried Po’ Boy</td>\n",
       "      <td>Nana</td>\n",
       "      <td>http://www.chicagomag.com/Chicago-Magazine/Nov...</td>\n",
       "    </tr>\n",
       "  </tbody>\n",
       "</table>\n",
       "</div>"
      ],
      "text/plain": [
       "  Rank                                            Menu  \\\n",
       "0    1                                             BLT   \n",
       "1    2                                   Fried Bologna   \n",
       "2    3                               Woodland Mushroom   \n",
       "3    4                                      Roast Beef   \n",
       "4    5                                            PB&L   \n",
       "5    6                     Belgian Chicken Curry Salad   \n",
       "6    7                                    Lobster Roll   \n",
       "7    8                             Smoked Salmon Salad   \n",
       "8    9                                 Atomica Cemitas   \n",
       "9   10  Grilled Laughing Bird Shrimp and Fried Po’ Boy   \n",
       "\n",
       "                              Cafe  \\\n",
       "0                      Old Oak Tap   \n",
       "1                        Au Cheval   \n",
       "2                             Xoco   \n",
       "3                        Al’s Deli   \n",
       "4           Publican Quality Meats   \n",
       "5  Hendrickx Belgian Bread Crafter   \n",
       "6                           Acadia   \n",
       "7                Birchwood Kitchen   \n",
       "8                   Cemitas Puebla   \n",
       "9                             Nana   \n",
       "\n",
       "                                                 URL  \n",
       "0  http://www.chicagomag.com/Chicago-Magazine/Nov...  \n",
       "1  http://www.chicagomag.com/Chicago-Magazine/Nov...  \n",
       "2  http://www.chicagomag.com/Chicago-Magazine/Nov...  \n",
       "3  http://www.chicagomag.com/Chicago-Magazine/Nov...  \n",
       "4  http://www.chicagomag.com/Chicago-Magazine/Nov...  \n",
       "5  http://www.chicagomag.com/Chicago-Magazine/Nov...  \n",
       "6  http://www.chicagomag.com/Chicago-Magazine/Nov...  \n",
       "7  http://www.chicagomag.com/Chicago-Magazine/Nov...  \n",
       "8  http://www.chicagomag.com/Chicago-Magazine/Nov...  \n",
       "9  http://www.chicagomag.com/Chicago-Magazine/Nov...  "
      ]
     },
     "execution_count": 41,
     "metadata": {},
     "output_type": "execute_result"
    }
   ],
   "source": [
    "import pandas as pd\n",
    "\n",
    "data = {'Rank':rank, 'Menu':mainMenu, 'Cafe':cafeName, 'URL':urlAdd}\n",
    "df = pd.DataFrame(data)\n",
    "df.head(10)"
   ]
  },
  {
   "cell_type": "code",
   "execution_count": 42,
   "metadata": {},
   "outputs": [
    {
     "data": {
      "text/html": [
       "<div>\n",
       "<style scoped>\n",
       "    .dataframe tbody tr th:only-of-type {\n",
       "        vertical-align: middle;\n",
       "    }\n",
       "\n",
       "    .dataframe tbody tr th {\n",
       "        vertical-align: top;\n",
       "    }\n",
       "\n",
       "    .dataframe thead th {\n",
       "        text-align: right;\n",
       "    }\n",
       "</style>\n",
       "<table border=\"1\" class=\"dataframe\">\n",
       "  <thead>\n",
       "    <tr style=\"text-align: right;\">\n",
       "      <th></th>\n",
       "      <th>Rank</th>\n",
       "      <th>Cafe</th>\n",
       "      <th>Menu</th>\n",
       "      <th>URL</th>\n",
       "    </tr>\n",
       "  </thead>\n",
       "  <tbody>\n",
       "    <tr>\n",
       "      <th>0</th>\n",
       "      <td>1</td>\n",
       "      <td>Old Oak Tap</td>\n",
       "      <td>BLT</td>\n",
       "      <td>http://www.chicagomag.com/Chicago-Magazine/Nov...</td>\n",
       "    </tr>\n",
       "    <tr>\n",
       "      <th>1</th>\n",
       "      <td>2</td>\n",
       "      <td>Au Cheval</td>\n",
       "      <td>Fried Bologna</td>\n",
       "      <td>http://www.chicagomag.com/Chicago-Magazine/Nov...</td>\n",
       "    </tr>\n",
       "    <tr>\n",
       "      <th>2</th>\n",
       "      <td>3</td>\n",
       "      <td>Xoco</td>\n",
       "      <td>Woodland Mushroom</td>\n",
       "      <td>http://www.chicagomag.com/Chicago-Magazine/Nov...</td>\n",
       "    </tr>\n",
       "    <tr>\n",
       "      <th>3</th>\n",
       "      <td>4</td>\n",
       "      <td>Al’s Deli</td>\n",
       "      <td>Roast Beef</td>\n",
       "      <td>http://www.chicagomag.com/Chicago-Magazine/Nov...</td>\n",
       "    </tr>\n",
       "    <tr>\n",
       "      <th>4</th>\n",
       "      <td>5</td>\n",
       "      <td>Publican Quality Meats</td>\n",
       "      <td>PB&amp;L</td>\n",
       "      <td>http://www.chicagomag.com/Chicago-Magazine/Nov...</td>\n",
       "    </tr>\n",
       "  </tbody>\n",
       "</table>\n",
       "</div>"
      ],
      "text/plain": [
       "  Rank                    Cafe               Menu  \\\n",
       "0    1             Old Oak Tap                BLT   \n",
       "1    2               Au Cheval      Fried Bologna   \n",
       "2    3                    Xoco  Woodland Mushroom   \n",
       "3    4               Al’s Deli         Roast Beef   \n",
       "4    5  Publican Quality Meats               PB&L   \n",
       "\n",
       "                                                 URL  \n",
       "0  http://www.chicagomag.com/Chicago-Magazine/Nov...  \n",
       "1  http://www.chicagomag.com/Chicago-Magazine/Nov...  \n",
       "2  http://www.chicagomag.com/Chicago-Magazine/Nov...  \n",
       "3  http://www.chicagomag.com/Chicago-Magazine/Nov...  \n",
       "4  http://www.chicagomag.com/Chicago-Magazine/Nov...  "
      ]
     },
     "execution_count": 42,
     "metadata": {},
     "output_type": "execute_result"
    }
   ],
   "source": [
    "df = pd.DataFrame(data, columns=['Rank','Cafe','Menu','URL'])\n",
    "df.head(5)"
   ]
  },
  {
   "cell_type": "code",
   "execution_count": 43,
   "metadata": {},
   "outputs": [],
   "source": [
    "df.to_csv('data/chicagomag_info.csv', sep=',', encoding='UTF-8')"
   ]
  },
  {
   "cell_type": "code",
   "execution_count": null,
   "metadata": {},
   "outputs": [],
   "source": []
  },
  {
   "cell_type": "code",
   "execution_count": 44,
   "metadata": {},
   "outputs": [],
   "source": [
    "# % ls data"
   ]
  },
  {
   "cell_type": "code",
   "execution_count": null,
   "metadata": {},
   "outputs": [],
   "source": []
  },
  {
   "cell_type": "code",
   "execution_count": null,
   "metadata": {},
   "outputs": [],
   "source": []
  },
  {
   "cell_type": "code",
   "execution_count": null,
   "metadata": {},
   "outputs": [],
   "source": []
  },
  {
   "cell_type": "code",
   "execution_count": null,
   "metadata": {},
   "outputs": [],
   "source": []
  }
 ],
 "metadata": {
  "kernelspec": {
   "display_name": "Python 3",
   "language": "python",
   "name": "python3"
  },
  "language_info": {
   "codemirror_mode": {
    "name": "ipython",
    "version": 3
   },
   "file_extension": ".py",
   "mimetype": "text/x-python",
   "name": "python",
   "nbconvert_exporter": "python",
   "pygments_lexer": "ipython3",
   "version": "3.6.5"
  }
 },
 "nbformat": 4,
 "nbformat_minor": 2
}
