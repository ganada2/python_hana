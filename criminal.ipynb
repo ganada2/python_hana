{
 "cells": [
  {
   "cell_type": "code",
   "execution_count": 3,
   "metadata": {},
   "outputs": [
    {
     "data": {
      "text/html": [
       "<div>\n",
       "<style scoped>\n",
       "    .dataframe tbody tr th:only-of-type {\n",
       "        vertical-align: middle;\n",
       "    }\n",
       "\n",
       "    .dataframe tbody tr th {\n",
       "        vertical-align: top;\n",
       "    }\n",
       "\n",
       "    .dataframe thead th {\n",
       "        text-align: right;\n",
       "    }\n",
       "</style>\n",
       "<table border=\"1\" class=\"dataframe\">\n",
       "  <thead>\n",
       "    <tr style=\"text-align: right;\">\n",
       "      <th></th>\n",
       "      <th>범죄대분류</th>\n",
       "      <th>범죄중분류</th>\n",
       "      <th>계</th>\n",
       "      <th>서울</th>\n",
       "      <th>부산</th>\n",
       "      <th>대구</th>\n",
       "      <th>인천</th>\n",
       "      <th>광주</th>\n",
       "      <th>대전</th>\n",
       "      <th>울산</th>\n",
       "      <th>...</th>\n",
       "      <th>경남 밀양</th>\n",
       "      <th>경남 사천</th>\n",
       "      <th>경남 양산</th>\n",
       "      <th>경남 진주</th>\n",
       "      <th>경남 창원</th>\n",
       "      <th>경남 통영</th>\n",
       "      <th>제주 서귀포</th>\n",
       "      <th>제주 제주</th>\n",
       "      <th>기타도시</th>\n",
       "      <th>도시이외</th>\n",
       "    </tr>\n",
       "  </thead>\n",
       "  <tbody>\n",
       "    <tr>\n",
       "      <th>0</th>\n",
       "      <td>강력범죄</td>\n",
       "      <td>살인기수</td>\n",
       "      <td>356</td>\n",
       "      <td>46</td>\n",
       "      <td>29</td>\n",
       "      <td>17</td>\n",
       "      <td>20</td>\n",
       "      <td>9</td>\n",
       "      <td>16</td>\n",
       "      <td>7</td>\n",
       "      <td>...</td>\n",
       "      <td>2</td>\n",
       "      <td>-</td>\n",
       "      <td>3</td>\n",
       "      <td>2</td>\n",
       "      <td>3</td>\n",
       "      <td>-</td>\n",
       "      <td>-</td>\n",
       "      <td>4</td>\n",
       "      <td>2</td>\n",
       "      <td>51</td>\n",
       "    </tr>\n",
       "    <tr>\n",
       "      <th>1</th>\n",
       "      <td>강력범죄</td>\n",
       "      <td>살인미수등</td>\n",
       "      <td>558</td>\n",
       "      <td>100</td>\n",
       "      <td>43</td>\n",
       "      <td>12</td>\n",
       "      <td>28</td>\n",
       "      <td>8</td>\n",
       "      <td>9</td>\n",
       "      <td>15</td>\n",
       "      <td>...</td>\n",
       "      <td>-</td>\n",
       "      <td>3</td>\n",
       "      <td>1</td>\n",
       "      <td>3</td>\n",
       "      <td>15</td>\n",
       "      <td>3</td>\n",
       "      <td>1</td>\n",
       "      <td>11</td>\n",
       "      <td>2</td>\n",
       "      <td>49</td>\n",
       "    </tr>\n",
       "    <tr>\n",
       "      <th>2</th>\n",
       "      <td>강력범죄</td>\n",
       "      <td>강도</td>\n",
       "      <td>1,149</td>\n",
       "      <td>260</td>\n",
       "      <td>137</td>\n",
       "      <td>51</td>\n",
       "      <td>88</td>\n",
       "      <td>47</td>\n",
       "      <td>35</td>\n",
       "      <td>33</td>\n",
       "      <td>...</td>\n",
       "      <td>4</td>\n",
       "      <td>1</td>\n",
       "      <td>7</td>\n",
       "      <td>6</td>\n",
       "      <td>26</td>\n",
       "      <td>1</td>\n",
       "      <td>1</td>\n",
       "      <td>24</td>\n",
       "      <td>1</td>\n",
       "      <td>46</td>\n",
       "    </tr>\n",
       "    <tr>\n",
       "      <th>3</th>\n",
       "      <td>강력범죄</td>\n",
       "      <td>강간</td>\n",
       "      <td>5,155</td>\n",
       "      <td>1,129</td>\n",
       "      <td>314</td>\n",
       "      <td>197</td>\n",
       "      <td>347</td>\n",
       "      <td>170</td>\n",
       "      <td>171</td>\n",
       "      <td>112</td>\n",
       "      <td>...</td>\n",
       "      <td>8</td>\n",
       "      <td>5</td>\n",
       "      <td>31</td>\n",
       "      <td>32</td>\n",
       "      <td>68</td>\n",
       "      <td>15</td>\n",
       "      <td>16</td>\n",
       "      <td>68</td>\n",
       "      <td>11</td>\n",
       "      <td>366</td>\n",
       "    </tr>\n",
       "    <tr>\n",
       "      <th>4</th>\n",
       "      <td>강력범죄</td>\n",
       "      <td>유사강간</td>\n",
       "      <td>583</td>\n",
       "      <td>123</td>\n",
       "      <td>28</td>\n",
       "      <td>37</td>\n",
       "      <td>47</td>\n",
       "      <td>21</td>\n",
       "      <td>14</td>\n",
       "      <td>16</td>\n",
       "      <td>...</td>\n",
       "      <td>-</td>\n",
       "      <td>2</td>\n",
       "      <td>4</td>\n",
       "      <td>1</td>\n",
       "      <td>7</td>\n",
       "      <td>1</td>\n",
       "      <td>3</td>\n",
       "      <td>13</td>\n",
       "      <td>-</td>\n",
       "      <td>33</td>\n",
       "    </tr>\n",
       "  </tbody>\n",
       "</table>\n",
       "<p>5 rows × 90 columns</p>\n",
       "</div>"
      ],
      "text/plain": [
       "  범죄대분류  범죄중분류      계     서울   부산   대구   인천   광주   대전   울산 ...  경남 밀양 경남 사천  \\\n",
       "0  강력범죄   살인기수    356     46   29   17   20    9   16    7 ...      2     -   \n",
       "1  강력범죄  살인미수등    558    100   43   12   28    8    9   15 ...      -     3   \n",
       "2  강력범죄     강도  1,149    260  137   51   88   47   35   33 ...      4     1   \n",
       "3  강력범죄     강간  5,155  1,129  314  197  347  170  171  112 ...      8     5   \n",
       "4  강력범죄   유사강간    583    123   28   37   47   21   14   16 ...      -     2   \n",
       "\n",
       "  경남 양산 경남 진주 경남 창원 경남 통영 제주 서귀포 제주 제주 기타도시 도시이외  \n",
       "0     3     2     3     -      -     4    2   51  \n",
       "1     1     3    15     3      1    11    2   49  \n",
       "2     7     6    26     1      1    24    1   46  \n",
       "3    31    32    68    15     16    68   11  366  \n",
       "4     4     1     7     1      3    13    -   33  \n",
       "\n",
       "[5 rows x 90 columns]"
      ]
     },
     "execution_count": 3,
     "metadata": {},
     "output_type": "execute_result"
    }
   ],
   "source": [
    "import platform\n",
    "\n",
    "from pandas import Series, DataFrame\n",
    "import pandas as pd\n",
    "import numpy as np\n",
    "import matplotlib.pyplot as plt\n",
    "\n",
    "from matplotlib import font_manager, rc\n",
    "font_name = font_manager.FontProperties(fname=\"C:/Windows/Fonts/malgun.ttf\").get_name()\n",
    "rc('font', family=font_name)\n",
    "\n",
    "%matplotlib inline\n",
    "plt.rcParams[\"figure.figsize\"] = [12,6]\n",
    "df = pd.read_csv('data/public_2016_crime_st.csv', encoding='EUC-KR')\n",
    "df.head()"
   ]
  },
  {
   "cell_type": "code",
   "execution_count": 4,
   "metadata": {},
   "outputs": [
    {
     "data": {
      "text/plain": [
       "0       강력범죄\n",
       "1       강력범죄\n",
       "2       강력범죄\n",
       "3       강력범죄\n",
       "4       강력범죄\n",
       "5       강력범죄\n",
       "6       강력범죄\n",
       "7       강력범죄\n",
       "8       절도범죄\n",
       "9       폭력범죄\n",
       "10      폭력범죄\n",
       "11      폭력범죄\n",
       "12      폭력범죄\n",
       "13      폭력범죄\n",
       "14      폭력범죄\n",
       "15      폭력범죄\n",
       "16      폭력범죄\n",
       "17      지능범죄\n",
       "18      지능범죄\n",
       "19      지능범죄\n",
       "20      지능범죄\n",
       "21      지능범죄\n",
       "22      지능범죄\n",
       "23      지능범죄\n",
       "24      지능범죄\n",
       "25      지능범죄\n",
       "26      풍속범죄\n",
       "27      풍속범죄\n",
       "28    특별경제범죄\n",
       "29      마약범죄\n",
       "30      보건범죄\n",
       "31      환경범죄\n",
       "32      교통범죄\n",
       "33      노동범죄\n",
       "34      안보범죄\n",
       "35      선거범죄\n",
       "36      병역범죄\n",
       "37      기타범죄\n",
       "Name: 범죄대분류, dtype: object"
      ]
     },
     "execution_count": 4,
     "metadata": {},
     "output_type": "execute_result"
    }
   ],
   "source": [
    "df['범죄대분류']"
   ]
  },
  {
   "cell_type": "code",
   "execution_count": 5,
   "metadata": {},
   "outputs": [
    {
     "data": {
      "text/plain": [
       "0             살인기수\n",
       "1            살인미수등\n",
       "2               강도\n",
       "3               강간\n",
       "4             유사강간\n",
       "5             강제추행\n",
       "6     기타 강간  강제추행등\n",
       "7               방화\n",
       "8             절도범죄\n",
       "9               상해\n",
       "10              폭행\n",
       "11          체포  감금\n",
       "12              협박\n",
       "13          약취  유인\n",
       "14           폭력행위등\n",
       "15              공갈\n",
       "16              손괴\n",
       "17            직무유기\n",
       "18            직권남용\n",
       "19             증수뢰\n",
       "20              통화\n",
       "21          문서  인장\n",
       "22          유가증권인지\n",
       "23              사기\n",
       "24              횡령\n",
       "25              배임\n",
       "26           성풍속범죄\n",
       "27            도박범죄\n",
       "28          특별경제범죄\n",
       "29            마약범죄\n",
       "30            보건범죄\n",
       "31            환경범죄\n",
       "32            교통범죄\n",
       "33            노동범죄\n",
       "34            안보범죄\n",
       "35            선거범죄\n",
       "36            병역범죄\n",
       "37            기타범죄\n",
       "Name: 범죄중분류, dtype: object"
      ]
     },
     "execution_count": 5,
     "metadata": {},
     "output_type": "execute_result"
    }
   ],
   "source": [
    "df['범죄중분류']"
   ]
  },
  {
   "cell_type": "code",
   "execution_count": 17,
   "metadata": {},
   "outputs": [
    {
     "data": {
      "text/plain": [
       "살인기수                46\n",
       "살인미수등              100\n",
       "강도                 260\n",
       "강간               1,129\n",
       "유사강간               123\n",
       "강제추행             4,667\n",
       "기타 강간  강제추행등        72\n",
       "방화                 286\n",
       "절도범죄            46,861\n",
       "상해               6,949\n",
       "폭행              39,337\n",
       "체포  감금             268\n",
       "협박               3,036\n",
       "약취  유인              35\n",
       "폭력행위등            2,615\n",
       "공갈                 694\n",
       "손괴              11,667\n",
       "직무유기               111\n",
       "직권남용               129\n",
       "증수뢰                 45\n",
       "통화                 867\n",
       "문서  인장           2,932\n",
       "유가증권인지             101\n",
       "사기              51,561\n",
       "횡령              15,367\n",
       "배임               1,024\n",
       "성풍속범죄            3,498\n",
       "도박범죄             2,149\n",
       "특별경제범죄          17,109\n",
       "마약범죄             1,449\n",
       "보건범죄             3,875\n",
       "환경범죄                58\n",
       "교통범죄            74,270\n",
       "노동범죄               509\n",
       "안보범죄                19\n",
       "선거범죄               180\n",
       "병역범죄             4,120\n",
       "기타범죄            44,407\n",
       "dtype: object"
      ]
     },
     "execution_count": 17,
     "metadata": {},
     "output_type": "execute_result"
    }
   ],
   "source": [
    "df_index = pd.Series(df['서울'].values , index=df['범죄중분류'].values)\n",
    "df_index"
   ]
  },
  {
   "cell_type": "code",
   "execution_count": 22,
   "metadata": {},
   "outputs": [
    {
     "data": {
      "text/plain": [
       "살인기수                356\n",
       "살인미수등               558\n",
       "강도                1,149\n",
       "강간                5,155\n",
       "유사강간                583\n",
       "강제추행             16,054\n",
       "기타 강간  강제추행등        408\n",
       "방화                1,502\n",
       "절도범죄            203,037\n",
       "상해               50,028\n",
       "폭행              165,803\n",
       "체포  감금            1,318\n",
       "협박               15,870\n",
       "약취  유인              201\n",
       "폭력행위등            13,302\n",
       "공갈                3,745\n",
       "손괴               59,127\n",
       "직무유기                531\n",
       "직권남용                437\n",
       "증수뢰                 260\n",
       "통화                1,811\n",
       "문서  인장           13,295\n",
       "유가증권인지              219\n",
       "사기              241,613\n",
       "횡령               50,053\n",
       "배임                4,358\n",
       "성풍속범죄            12,719\n",
       "도박범죄             13,446\n",
       "특별경제범죄           65,025\n",
       "마약범죄              7,329\n",
       "보건범죄             14,662\n",
       "환경범죄              4,349\n",
       "교통범죄            600,401\n",
       "노동범죄              2,457\n",
       "안보범죄                 81\n",
       "선거범죄              1,018\n",
       "병역범죄             16,651\n",
       "기타범죄            260,539\n",
       "dtype: object"
      ]
     },
     "execution_count": 22,
     "metadata": {},
     "output_type": "execute_result"
    }
   ],
   "source": [
    "df_index = pd.Series(df['계'].values, index=df['범죄중분류'].values)\n",
    "df_index"
   ]
  },
  {
   "cell_type": "code",
   "execution_count": null,
   "metadata": {},
   "outputs": [],
   "source": []
  },
  {
   "cell_type": "code",
   "execution_count": null,
   "metadata": {},
   "outputs": [],
   "source": []
  },
  {
   "cell_type": "code",
   "execution_count": 23,
   "metadata": {},
   "outputs": [
    {
     "data": {
      "text/plain": [
       "'1,149'"
      ]
     },
     "execution_count": 23,
     "metadata": {},
     "output_type": "execute_result"
    }
   ],
   "source": [
    "df_index.values\n",
    "df_index.values[2]"
   ]
  },
  {
   "cell_type": "code",
   "execution_count": 24,
   "metadata": {},
   "outputs": [
    {
     "data": {
      "text/plain": [
       "1149"
      ]
     },
     "execution_count": 24,
     "metadata": {},
     "output_type": "execute_result"
    }
   ],
   "source": [
    "int(df_index.values[2].replace(',', ''))"
   ]
  },
  {
   "cell_type": "code",
   "execution_count": 25,
   "metadata": {},
   "outputs": [
    {
     "data": {
      "text/plain": [
       "array([356, 558, 1149, 5155, 583, 16054, 408, 1502, 203037, 50028, 165803,\n",
       "       1318, 15870, 201, 13302, 3745, 59127, 531, 437, 260, 1811, 13295,\n",
       "       219, 241613, 50053, 4358, 12719, 13446, 65025, 7329, 14662, 4349,\n",
       "       600401, 2457, 81, 1018, 16651, 260539], dtype=object)"
      ]
     },
     "execution_count": 25,
     "metadata": {},
     "output_type": "execute_result"
    }
   ],
   "source": [
    "for n in np.arange(len(df_index)):\n",
    "    df_index.values[n] = int(df_index.values[n].replace(',', ''))\n",
    "df_index.values"
   ]
  },
  {
   "cell_type": "code",
   "execution_count": 26,
   "metadata": {},
   "outputs": [
    {
     "data": {
      "text/plain": [
       "<matplotlib.axes._subplots.AxesSubplot at 0x75fceb0>"
      ]
     },
     "execution_count": 26,
     "metadata": {},
     "output_type": "execute_result"
    },
    {
     "data": {
      "image/png": "[encoded data removed]",
      "text/plain": [
       "<Figure size 864x432 with 1 Axes>"
      ]
     },
     "metadata": {},
     "output_type": "display_data"
    }
   ],
   "source": [
    "df_index.plot(kind='bar')\n"
   ]
  },
  {
   "cell_type": "code",
   "execution_count": 28,
   "metadata": {},
   "outputs": [],
   "source": [
    "plt.rcParams[\"figure.figsize\"] = [14,10]"
   ]
  },
  {
   "cell_type": "code",
   "execution_count": 29,
   "metadata": {},
   "outputs": [
    {
     "data": {
      "text/plain": [
       "강력범죄         356\n",
       "강력범죄         558\n",
       "강력범죄        1149\n",
       "강력범죄        5155\n",
       "강력범죄         583\n",
       "강력범죄       16054\n",
       "강력범죄         408\n",
       "강력범죄        1502\n",
       "절도범죄      203037\n",
       "폭력범죄       50028\n",
       "폭력범죄      165803\n",
       "폭력범죄        1318\n",
       "폭력범죄       15870\n",
       "폭력범죄         201\n",
       "폭력범죄       13302\n",
       "폭력범죄        3745\n",
       "폭력범죄       59127\n",
       "지능범죄         531\n",
       "지능범죄         437\n",
       "지능범죄         260\n",
       "지능범죄        1811\n",
       "지능범죄       13295\n",
       "지능범죄         219\n",
       "지능범죄      241613\n",
       "지능범죄       50053\n",
       "지능범죄        4358\n",
       "풍속범죄       12719\n",
       "풍속범죄       13446\n",
       "특별경제범죄     65025\n",
       "마약범죄        7329\n",
       "보건범죄       14662\n",
       "환경범죄        4349\n",
       "교통범죄      600401\n",
       "노동범죄        2457\n",
       "안보범죄          81\n",
       "선거범죄        1018\n",
       "병역범죄       16651\n",
       "기타범죄      260539\n",
       "dtype: object"
      ]
     },
     "execution_count": 29,
     "metadata": {},
     "output_type": "execute_result"
    }
   ],
   "source": [
    "df_crime = pd.Series(df['계'].values, index=df['범죄대분류'].values)\n",
    "df_crime"
   ]
  },
  {
   "cell_type": "code",
   "execution_count": 30,
   "metadata": {},
   "outputs": [
    {
     "data": {
      "text/plain": [
       "{'강력범죄': 25765,\n",
       " '절도범죄': 203037,\n",
       " '폭력범죄': 309394,\n",
       " '지능범죄': 312577,\n",
       " '풍속범죄': 26165,\n",
       " '특별경제범죄': 65025,\n",
       " '마약범죄': 7329,\n",
       " '보건범죄': 14662,\n",
       " '환경범죄': 4349,\n",
       " '교통범죄': 600401,\n",
       " '노동범죄': 2457,\n",
       " '안보범죄': 81,\n",
       " '선거범죄': 1018,\n",
       " '병역범죄': 16651,\n",
       " '기타범죄': 260539}"
      ]
     },
     "execution_count": 30,
     "metadata": {},
     "output_type": "execute_result"
    }
   ],
   "source": [
    "def get_crime_cnt(d_frame):\n",
    "    crime_cnt = {}\n",
    "    for idx in range(len(d_frame.index)):\n",
    "        # print(idx, d_frame.index[idx], d_frame[idx], end=\"  \\t =>\")\n",
    "        # print(idx, crime_cnt)\n",
    "\n",
    "        crime = d_frame.index[idx]\n",
    "        count  = d_frame[idx]\n",
    "\n",
    "        if crime_cnt.get(crime):\n",
    "            crime_cnt[crime] += count\n",
    "        else:\n",
    "            crime_cnt[crime] = count\n",
    "    \n",
    "    return crime_cnt\n",
    "    \n",
    "crime_dict = get_crime_cnt(df_crime)\n",
    "crime_dict"
   ]
  },
  {
   "cell_type": "code",
   "execution_count": 31,
   "metadata": {},
   "outputs": [
    {
     "ename": "NameError",
     "evalue": "name 'crime_stat' is not defined",
     "output_type": "error",
     "traceback": [
      "\u001b[1;31m---------------------------------------------------------------------------\u001b[0m",
      "\u001b[1;31mNameError\u001b[0m                                 Traceback (most recent call last)",
      "\u001b[1;32m<ipython-input-31-b27a55fd6222>\u001b[0m in \u001b[0;36m<module>\u001b[1;34m()\u001b[0m\n\u001b[0;32m      1\u001b[0m \u001b[0mplt\u001b[0m\u001b[1;33m.\u001b[0m\u001b[0mrcParams\u001b[0m\u001b[1;33m[\u001b[0m\u001b[1;34m\"figure.figsize\"\u001b[0m\u001b[1;33m]\u001b[0m \u001b[1;33m=\u001b[0m \u001b[1;33m[\u001b[0m\u001b[1;36m15\u001b[0m\u001b[1;33m,\u001b[0m\u001b[1;36m15\u001b[0m\u001b[1;33m]\u001b[0m\u001b[1;33m\u001b[0m\u001b[0m\n\u001b[0;32m      2\u001b[0m \u001b[1;31m# crime_stat.plot(kind='pie');\u001b[0m\u001b[1;33m\u001b[0m\u001b[1;33m\u001b[0m\u001b[0m\n\u001b[1;32m----> 3\u001b[1;33m \u001b[0mcrime_stat\u001b[0m\u001b[1;33m.\u001b[0m\u001b[0mplot\u001b[0m\u001b[1;33m(\u001b[0m\u001b[0mkind\u001b[0m\u001b[1;33m=\u001b[0m\u001b[1;34m'pie'\u001b[0m\u001b[1;33m,\u001b[0m \u001b[0mtitle\u001b[0m\u001b[1;33m=\u001b[0m\u001b[1;34m'2016년 범죄발생 현황'\u001b[0m\u001b[1;33m)\u001b[0m\u001b[1;33m;\u001b[0m\u001b[1;33m\u001b[0m\u001b[0m\n\u001b[0m",
      "\u001b[1;31mNameError\u001b[0m: name 'crime_stat' is not defined"
     ]
    }
   ],
   "source": [
    "plt.rcParams[\"figure.figsize\"] = [15,15]\n",
    "# crime_stat.plot(kind='pie');\n",
    "crime_stat.plot(kind='pie', title='2016년 범죄발생 현황');"
   ]
  },
  {
   "cell_type": "code",
   "execution_count": null,
   "metadata": {},
   "outputs": [],
   "source": []
  },
  {
   "cell_type": "code",
   "execution_count": null,
   "metadata": {},
   "outputs": [],
   "source": []
  },
  {
   "cell_type": "code",
   "execution_count": 32,
   "metadata": {},
   "outputs": [
    {
     "data": {
      "text/plain": [
       "교통범죄      600401\n",
       "기타범죄      260539\n",
       "사기        241613\n",
       "절도범죄      203037\n",
       "폭행        165803\n",
       "특별경제범죄     65025\n",
       "손괴         59127\n",
       "횡령         50053\n",
       "상해         50028\n",
       "병역범죄       16651\n",
       "dtype: object"
      ]
     },
     "execution_count": 32,
     "metadata": {},
     "output_type": "execute_result"
    }
   ],
   "source": [
    "import seaborn as sns\n",
    "sns.set()\n",
    "\n",
    "font_name = font_manager.FontProperties(fname=\"C:/Windows/Fonts/malgun.ttf\").get_name()\n",
    "rc('font', family=font_name)\n",
    "# df_index.sort_values().head(10)\n",
    "df_index.sort_values(ascending=False).head(10)"
   ]
  },
  {
   "cell_type": "code",
   "execution_count": 33,
   "metadata": {},
   "outputs": [
    {
     "data": {
      "image/png": "[encoded data removed]",
      "text/plain": [
       "<Figure size 1080x360 with 1 Axes>"
      ]
     },
     "metadata": {},
     "output_type": "display_data"
    }
   ],
   "source": [
    "plt.rcParams[\"figure.figsize\"] = [15, 5]\n",
    "df_index.plot(kind='bar', title='2016년 범죄발생 현황 (중분류)');"
   ]
  },
  {
   "cell_type": "code",
   "execution_count": 38,
   "metadata": {},
   "outputs": [
    {
     "data": {
      "image/png": "[encoded data removed]",
      "text/plain": [
       "<Figure size 1080x720 with 1 Axes>"
      ]
     },
     "metadata": {},
     "output_type": "display_data"
    }
   ],
   "source": [
    "plt.rcParams[\"figure.figsize\"] = [15,10]\n",
    "# df_index.plot(kind='barh', title='2016년 범죄발생 현황 (중분류)');\n",
    "df_index.sort_values(ascending=True).tail(15).plot(kind='barh', title='2016년 범죄발생 현황 (중분류)');"
   ]
  },
  {
   "cell_type": "code",
   "execution_count": null,
   "metadata": {},
   "outputs": [],
   "source": []
  },
  {
   "cell_type": "code",
   "execution_count": null,
   "metadata": {},
   "outputs": [],
   "source": []
  },
  {
   "cell_type": "code",
   "execution_count": null,
   "metadata": {},
   "outputs": [],
   "source": []
  },
  {
   "cell_type": "code",
   "execution_count": null,
   "metadata": {},
   "outputs": [],
   "source": []
  },
  {
   "cell_type": "code",
   "execution_count": null,
   "metadata": {},
   "outputs": [],
   "source": []
  },
  {
   "cell_type": "code",
   "execution_count": null,
   "metadata": {},
   "outputs": [],
   "source": []
  },
  {
   "cell_type": "code",
   "execution_count": null,
   "metadata": {},
   "outputs": [],
   "source": []
  },
  {
   "cell_type": "code",
   "execution_count": null,
   "metadata": {},
   "outputs": [],
   "source": []
  },
  {
   "cell_type": "code",
   "execution_count": null,
   "metadata": {},
   "outputs": [],
   "source": []
  }
 ],
 "metadata": {
  "kernelspec": {
   "display_name": "Python 3",
   "language": "python",
   "name": "python3"
  },
  "language_info": {
   "codemirror_mode": {
    "name": "ipython",
    "version": 3
   },
   "file_extension": ".py",
   "mimetype": "text/x-python",
   "name": "python",
   "nbconvert_exporter": "python",
   "pygments_lexer": "ipython3",
   "version": "3.6.5"
  }
 },
 "nbformat": 4,
 "nbformat_minor": 2
}
