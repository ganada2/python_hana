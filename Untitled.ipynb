{
 "cells": [
  {
   "cell_type": "code",
   "execution_count": 2,
   "metadata": {},
   "outputs": [],
   "source": [
    "def hello():\n",
    "    return \"Hey guys, Let's get it !\""
   ]
  },
  {
   "cell_type": "code",
   "execution_count": 8,
   "metadata": {},
   "outputs": [
    {
     "data": {
      "text/plain": [
       "\"Hey guys, Let's get it !\""
      ]
     },
     "execution_count": 8,
     "metadata": {},
     "output_type": "execute_result"
    }
   ],
   "source": [
    "hello()\n",
    "\n"
   ]
  },
  {
   "cell_type": "code",
   "execution_count": 4,
   "metadata": {},
   "outputs": [],
   "source": [
    "def double(x):\n",
    "    return x * 2"
   ]
  },
  {
   "cell_type": "code",
   "execution_count": 7,
   "metadata": {},
   "outputs": [
    {
     "data": {
      "text/plain": [
       "200"
      ]
     },
     "execution_count": 7,
     "metadata": {},
     "output_type": "execute_result"
    }
   ],
   "source": [
    "double(100)"
   ]
  },
  {
   "cell_type": "code",
   "execution_count": 10,
   "metadata": {},
   "outputs": [],
   "source": [
    "double2 = lambda x: x * 2\n"
   ]
  },
  {
   "cell_type": "code",
   "execution_count": 12,
   "metadata": {},
   "outputs": [
    {
     "data": {
      "text/plain": [
       "600"
      ]
     },
     "execution_count": 12,
     "metadata": {},
     "output_type": "execute_result"
    }
   ],
   "source": [
    "double2(300)\n",
    "\n"
   ]
  },
  {
   "cell_type": "code",
   "execution_count": 13,
   "metadata": {},
   "outputs": [
    {
     "data": {
      "text/plain": [
       "<function __main__.<lambda>(x)>"
      ]
     },
     "execution_count": 13,
     "metadata": {},
     "output_type": "execute_result"
    }
   ],
   "source": [
    "double2\n"
   ]
  },
  {
   "cell_type": "code",
   "execution_count": 14,
   "metadata": {},
   "outputs": [],
   "source": [
    "def get_square(number):\n",
    "    return number ** 2\n",
    "\n",
    "def get_square_list(numbers):\n",
    "    elements = []\n",
    "    for number in numbers:\n",
    "        elements.append(get_square(number))\n",
    "    return elements"
   ]
  },
  {
   "cell_type": "code",
   "execution_count": 15,
   "metadata": {},
   "outputs": [
    {
     "data": {
      "text/plain": [
       "[1, 4, 9, 16, 25, 36, 49, 64, 81, 100]"
      ]
     },
     "execution_count": 15,
     "metadata": {},
     "output_type": "execute_result"
    }
   ],
   "source": [
    "numbers = list(range(1, 11))\n",
    "get_square_list(numbers)"
   ]
  },
  {
   "cell_type": "code",
   "execution_count": 20,
   "metadata": {},
   "outputs": [],
   "source": [
    "def get_positive_list(numbers):\n",
    "    elements = []\n",
    "    print(type(elements))\n",
    "    for number in numbers:\n",
    "        if number > 0:\n",
    "            elements.append(number)\n",
    "    return elements    "
   ]
  },
  {
   "cell_type": "code",
   "execution_count": 21,
   "metadata": {},
   "outputs": [
    {
     "name": "stdout",
     "output_type": "stream",
     "text": [
      "<class 'list'>\n"
     ]
    },
    {
     "data": {
      "text/plain": [
       "[1, 3, 5]"
      ]
     },
     "execution_count": 21,
     "metadata": {},
     "output_type": "execute_result"
    }
   ],
   "source": [
    "numbers = [1, -2, 3, -4, 5]\n",
    "get_positive_list(numbers)"
   ]
  },
  {
   "cell_type": "code",
   "execution_count": 22,
   "metadata": {},
   "outputs": [
    {
     "data": {
      "text/plain": [
       "[1, 4, 9, 16, 25]"
      ]
     },
     "execution_count": 22,
     "metadata": {},
     "output_type": "execute_result"
    }
   ],
   "source": [
    "list(map(  \n",
    "    get_square,         \n",
    "    [1, 2, 3, 4, 5],\n",
    "))"
   ]
  },
  {
   "cell_type": "code",
   "execution_count": 24,
   "metadata": {},
   "outputs": [
    {
     "data": {
      "text/plain": [
       "[1, 4, 9, 16, 25]"
      ]
     },
     "execution_count": 24,
     "metadata": {},
     "output_type": "execute_result"
    }
   ],
   "source": [
    "list(map(\n",
    "    lambda x: x ** 2,\n",
    "    [1, 2, 3, 4, 5]\n",
    "))\n"
   ]
  },
  {
   "cell_type": "code",
   "execution_count": 27,
   "metadata": {},
   "outputs": [
    {
     "data": {
      "text/plain": [
       "[1, 4, 9, 16, 25]"
      ]
     },
     "execution_count": 27,
     "metadata": {},
     "output_type": "execute_result"
    }
   ],
   "source": [
    "def get_square_list(numbers):\n",
    "    return list(map(lambda x: x ** 2, numbers))\n",
    "\n",
    "get_square_list([1, 2, 3, 4, 5])"
   ]
  },
  {
   "cell_type": "code",
   "execution_count": 26,
   "metadata": {},
   "outputs": [],
   "source": [
    "? map"
   ]
  },
  {
   "cell_type": "code",
   "execution_count": 28,
   "metadata": {},
   "outputs": [
    {
     "data": {
      "text/plain": [
       "[1, 3, 5]"
      ]
     },
     "execution_count": 28,
     "metadata": {},
     "output_type": "execute_result"
    }
   ],
   "source": [
    "numbers = [1, -2,  3, -4,  5]\n",
    "\n",
    "list(map(\n",
    "    lambda x: x > 0,\n",
    "    numbers,\n",
    "))   # Boolean List / Boolean Mask, Filtering Mask\n",
    "\n",
    "list(filter(\n",
    "    lambda x: x > 0,\n",
    "    numbers,\n",
    "))"
   ]
  },
  {
   "cell_type": "code",
   "execution_count": 29,
   "metadata": {},
   "outputs": [
    {
     "data": {
      "text/plain": [
       "[1, 3, 5]"
      ]
     },
     "execution_count": 29,
     "metadata": {},
     "output_type": "execute_result"
    }
   ],
   "source": [
    "def get_positive_list(numbers):\n",
    "    elements = []\n",
    "    for number in numbers:\n",
    "        if number > 0:               # False, False, True, True\n",
    "            elements.append(number)\n",
    "    return elements\n",
    "\n",
    "get_positive_list(numbers)"
   ]
  },
  {
   "cell_type": "code",
   "execution_count": 31,
   "metadata": {},
   "outputs": [],
   "source": [
    "list(filter(\n",
    "    lambda x: x > 0,\n",
    "    numbers,\n",
    "))\n",
    "\n",
    "def get_positive_list(numbers):\n",
    "    return list(filter(lambda x: x > 0, numbers))\n",
    "\n",
    "get_positive_list([1, -2,  3, -4,  5])\n",
    "\n",
    "\n",
    "get_positive_list = lambda numbers: list(filter(lambda x: x > 0, numbers))"
   ]
  },
  {
   "cell_type": "code",
   "execution_count": 33,
   "metadata": {},
   "outputs": [
    {
     "data": {
      "text/plain": [
       "[1, 3, 5]"
      ]
     },
     "execution_count": 33,
     "metadata": {},
     "output_type": "execute_result"
    }
   ],
   "source": [
    "get_positive_list([1, -2,  3, -4,  5])\n",
    "\n"
   ]
  },
  {
   "cell_type": "code",
   "execution_count": 34,
   "metadata": {},
   "outputs": [
    {
     "data": {
      "text/plain": [
       "24"
      ]
     },
     "execution_count": 34,
     "metadata": {},
     "output_type": "execute_result"
    }
   ],
   "source": [
    "def get_multiply(numbers):\n",
    "    result = 1\n",
    "    for number in numbers:\n",
    "        result *= number\n",
    "    return result\n",
    "\n",
    "get_multiply([1, 2, 3, 4])"
   ]
  },
  {
   "cell_type": "code",
   "execution_count": 36,
   "metadata": {},
   "outputs": [
    {
     "data": {
      "text/plain": [
       "24"
      ]
     },
     "execution_count": 36,
     "metadata": {},
     "output_type": "execute_result"
    }
   ],
   "source": [
    "get_multiply([1, 2, 3, 4])"
   ]
  },
  {
   "cell_type": "code",
   "execution_count": 52,
   "metadata": {},
   "outputs": [
    {
     "data": {
      "text/plain": [
       "5"
      ]
     },
     "execution_count": 52,
     "metadata": {},
     "output_type": "execute_result"
    }
   ],
   "source": [
    "from functools import *\n",
    "\n",
    "\n",
    "def get_max(numbers):\n",
    "    result = numbers[0]  # 만약에, 0이라고 했을 때 => 음수의 리스트 \n",
    "    for number in numbers:\n",
    "        if result < number:\n",
    "            result = number\n",
    "    return result\n",
    "\n",
    "get_max([3, -1, 5, -6])"
   ]
  },
  {
   "cell_type": "code",
   "execution_count": 53,
   "metadata": {},
   "outputs": [
    {
     "data": {
      "text/plain": [
       "5"
      ]
     },
     "execution_count": 53,
     "metadata": {},
     "output_type": "execute_result"
    }
   ],
   "source": [
    "def get_max(numbers):\n",
    "    result = numbers[0]  # 만약에, 0이라고 했을 때 => 음수의 리스트 \n",
    "    for number in numbers:\n",
    "        if result < number:\n",
    "            result = number\n",
    "    return result\n",
    "\n",
    "get_max([3, -1, 5, -6])"
   ]
  },
  {
   "cell_type": "code",
   "execution_count": 54,
   "metadata": {},
   "outputs": [
    {
     "data": {
      "text/plain": [
       "5"
      ]
     },
     "execution_count": 54,
     "metadata": {},
     "output_type": "execute_result"
    }
   ],
   "source": [
    "def get_bigger(a, b):\n",
    "    return a if a > b else b\n",
    "\n",
    "reduce(\n",
    "    get_bigger,\n",
    "    [3, -1, 5, -6],\n",
    ")                     # get_max"
   ]
  },
  {
   "cell_type": "code",
   "execution_count": 55,
   "metadata": {},
   "outputs": [
    {
     "data": {
      "text/plain": [
       "5"
      ]
     },
     "execution_count": 55,
     "metadata": {},
     "output_type": "execute_result"
    }
   ],
   "source": [
    "def get_max(numbers):\n",
    "    result = numbers[0]  # 만약에, 0이라고 했을 때 => 음수의 리스트 \n",
    "    for number in numbers:\n",
    "        if result < number:\n",
    "            result = number\n",
    "    return result\n",
    "\n",
    "get_max([3, -1, 5, -6])"
   ]
  },
  {
   "cell_type": "code",
   "execution_count": 56,
   "metadata": {},
   "outputs": [
    {
     "data": {
      "text/plain": [
       "5"
      ]
     },
     "execution_count": 56,
     "metadata": {},
     "output_type": "execute_result"
    }
   ],
   "source": [
    "def get_bigger(a, b):\n",
    "    return a if a > b else b\n",
    "\n",
    "reduce(\n",
    "    get_bigger,\n",
    "    [3, -1, 5, -6],\n",
    ")                     # get_max"
   ]
  },
  {
   "cell_type": "code",
   "execution_count": 58,
   "metadata": {},
   "outputs": [
    {
     "data": {
      "text/plain": [
       "2"
      ]
     },
     "execution_count": 58,
     "metadata": {},
     "output_type": "execute_result"
    }
   ],
   "source": [
    "get_bigger(1, 2)"
   ]
  },
  {
   "cell_type": "code",
   "execution_count": 59,
   "metadata": {},
   "outputs": [
    {
     "data": {
      "text/plain": [
       "40"
      ]
     },
     "execution_count": 59,
     "metadata": {},
     "output_type": "execute_result"
    }
   ],
   "source": [
    "reduce(\n",
    "    get_bigger,\n",
    "    [1, 2, 40, 3, -1, 5, -6],\n",
    ")"
   ]
  },
  {
   "cell_type": "code",
   "execution_count": 66,
   "metadata": {},
   "outputs": [
    {
     "data": {
      "text/plain": [
       "5"
      ]
     },
     "execution_count": 66,
     "metadata": {},
     "output_type": "execute_result"
    }
   ],
   "source": [
    "def get_bigger(a, b):\n",
    "    return a if a > b else b\n",
    "\n",
    "reduce(\n",
    "    get_bigger,\n",
    "    [3, -1, 5, -6],\n",
    ")                     # get_max\n",
    "\n",
    "reduce(\n",
    "    lambda x, y: x if x > y else y,\n",
    "    [3, -1, 5, -6],\n",
    ")\n",
    "\n",
    "def get_max(numbers):\n",
    "    return reduce(lambda x, y: x if x > y else y, numbers)\n",
    "\n",
    "get_max([3, -1, 5, -6])"
   ]
  },
  {
   "cell_type": "code",
   "execution_count": 137,
   "metadata": {},
   "outputs": [],
   "source": [
    "data = [\"cat\", \"cat\", \"cat\", \"sheep\", \"sheep\", \"duck\", \"duck\", \"duck\", \"duck\" ]"
   ]
  },
  {
   "cell_type": "code",
   "execution_count": 121,
   "metadata": {},
   "outputs": [],
   "source": [
    "result_dict = {'cat': 3, 'duck': 4, 'sheep': 2}\n",
    "result_hist = \"\"\"\n",
    "\n",
    "\n",
    "cat    ===\n",
    "  sheep  ==\n",
    "  duck   ====\n",
    "\"\"\""
   ]
  },
  {
   "cell_type": "code",
   "execution_count": 122,
   "metadata": {
    "scrolled": false
   },
   "outputs": [
    {
     "name": "stdout",
     "output_type": "stream",
     "text": [
      "{'cat': 3, 'duck': 4, 'sheep': 2}\n",
      "---------------------------------------- \n",
      "\n",
      "\n",
      "cat    ===\n",
      "  sheep  ==\n",
      "  duck   ====\n",
      "\n"
     ]
    }
   ],
   "source": [
    "print(result_dict)\n",
    "print('-'*40, result_hist)"
   ]
  },
  {
   "cell_type": "code",
   "execution_count": 123,
   "metadata": {
    "scrolled": true
   },
   "outputs": [
    {
     "name": "stdout",
     "output_type": "stream",
     "text": [
      "초기값 {}\n",
      "cat : {'cat': 1}\n",
      "cat : {'cat': 2}\n",
      "cat : {'cat': 3}\n",
      "sheep : {'cat': 3, 'sheep': 1}\n",
      "sheep : {'cat': 3, 'sheep': 2}\n",
      "duck : {'cat': 3, 'sheep': 2, 'duck': 1}\n",
      "duck : {'cat': 3, 'sheep': 2, 'duck': 2}\n",
      "duck : {'cat': 3, 'sheep': 2, 'duck': 3}\n",
      "duck : {'cat': 3, 'sheep': 2, 'duck': 4}\n"
     ]
    },
    {
     "data": {
      "text/plain": [
       "{'cat': 3, 'sheep': 2, 'duck': 4}"
      ]
     },
     "execution_count": 123,
     "metadata": {},
     "output_type": "execute_result"
    }
   ],
   "source": [
    "result_dict = {'cat': 4, 'duck': 4, 'sheep': 10}\n",
    "\n",
    "def get_cnt(dic,ele):\n",
    "    \n",
    "    if dic.get(ele):\n",
    "        dic[ele] +=1\n",
    "    else:\n",
    "        dic[ele] =1\n",
    "    print(ele, \":\", result_dict)\n",
    "        \n",
    "    return result_dict\n",
    "\n",
    "\n",
    "result_dict =dict()\n",
    "print(\"초기값\", result_dict)\n",
    "\n",
    "reduce(\n",
    "\n",
    "    get_cnt,\n",
    "    data,\n",
    "    result_dict\n",
    "\n",
    ")"
   ]
  },
  {
   "cell_type": "code",
   "execution_count": 145,
   "metadata": {},
   "outputs": [],
   "source": [
    "#print(result_dict)\n",
    "\n",
    "def get_dict(data):\n",
    "    return reduce(\n",
    "        get_count,\n",
    "        data,\n",
    "        {}    \n",
    "    )\n",
    "    \n",
    "def get_count(result_dict, element):\n",
    "    if(result_dict.get(element)):\n",
    "        result_dict[element] += 1\n",
    "    else:\n",
    "        result_dict[element] = 1\n",
    "    return result_dict\n",
    "        \n",
    "def draw_histogram(result):\n",
    "    for key,val in result.items():\n",
    "        print(\" {a} {c}\".format(\n",
    "        \n",
    "        a=key,\n",
    "        c=val*\"=\"\n",
    "        ))\n"
   ]
  },
  {
   "cell_type": "code",
   "execution_count": 146,
   "metadata": {},
   "outputs": [],
   "source": [
    "def histogram(data):\n",
    "    result = get_dict(data)\n",
    "    draw_histogram(result)"
   ]
  },
  {
   "cell_type": "code",
   "execution_count": 147,
   "metadata": {},
   "outputs": [
    {
     "name": "stdout",
     "output_type": "stream",
     "text": [
      " cat ===\n",
      " sheep ==\n",
      " duck ====\n"
     ]
    }
   ],
   "source": [
    "histogram(data)"
   ]
  },
  {
   "cell_type": "code",
   "execution_count": null,
   "metadata": {},
   "outputs": [],
   "source": []
  }
 ],
 "metadata": {
  "kernelspec": {
   "display_name": "Python 3",
   "language": "python",
   "name": "python3"
  },
  "language_info": {
   "codemirror_mode": {
    "name": "ipython",
    "version": 3
   },
   "file_extension": ".py",
   "mimetype": "text/x-python",
   "name": "python",
   "nbconvert_exporter": "python",
   "pygments_lexer": "ipython3",
   "version": "3.6.5"
  }
 },
 "nbformat": 4,
 "nbformat_minor": 2
}
